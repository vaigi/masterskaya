{
 "cells": [
  {
   "cell_type": "markdown",
   "metadata": {},
   "source": [
    "# Задача\n",
    "\n",
    "Заказчик: <br>\n",
    "Благотворительный фонд “Бюро добрых дел”<br><br>\n",
    "\n",
    "Основная цель заказчика заключается в том, чтобы из пула тех клиентов, которые жертвовали за последний год, выявить клиентов, которые могут увеличить частоту или размер пожертвований.<br>\n",
    "* Данные, которыми располагает заказчик, включают в себя историю платежей жертвователей и какую-то дополнительную информацию за несколько лет по четырём тысячам жертвователей.<br>\n",
    "* Жизненный цикл жертвователя составляет от полутора до трёх лет, поэтому в истории будут примеры того, как именно меняется характер платежей клиентов.<br>\n",
    "* Если получится на основе данных сделать дополнительную сегментацию, например выделить характерное поведение пользователей, которые прекращают жертвовать, это также интересует заказчика.\n",
    "<br><br>\n",
    "\n",
    "Данные реальные, задача интересная, успешное её решение приведёт к тому, что больше людей получат ту помощь, в которой нуждаются."
   ]
  },
  {
   "cell_type": "markdown",
   "metadata": {},
   "source": [
    "## Подготовка данных"
   ]
  },
  {
   "cell_type": "code",
   "execution_count": 1,
   "metadata": {},
   "outputs": [],
   "source": [
    "import pandas as pd\n",
    "import numpy as np\n",
    "import warnings\n",
    "warnings.filterwarnings('ignore')"
   ]
  },
  {
   "cell_type": "code",
   "execution_count": 2,
   "metadata": {
    "colab": {
     "base_uri": "https://localhost:8080/",
     "height": 917
    },
    "id": "zBF04Td5bp9u",
    "outputId": "0c64d88d-5bf9-4fef-edec-eab0c5652c3c"
   },
   "outputs": [
    {
     "name": "stdout",
     "output_type": "stream",
     "text": [
      "<class 'pandas.core.frame.DataFrame'>\n",
      "RangeIndex: 3683 entries, 0 to 3682\n",
      "Data columns (total 4 columns):\n",
      " #   Column                           Non-Null Count  Dtype         \n",
      "---  ------                           --------------  -----         \n",
      " 0   ID                               3683 non-null   object        \n",
      " 1   Пол                              2431 non-null   object        \n",
      " 2   Город                            1015 non-null   object        \n",
      " 3   Дата последней email активности  1835 non-null   datetime64[ns]\n",
      "dtypes: datetime64[ns](1), object(3)\n",
      "memory usage: 115.2+ KB\n"
     ]
    },
    {
     "data": {
      "text/html": [
       "<div>\n",
       "<style scoped>\n",
       "    .dataframe tbody tr th:only-of-type {\n",
       "        vertical-align: middle;\n",
       "    }\n",
       "\n",
       "    .dataframe tbody tr th {\n",
       "        vertical-align: top;\n",
       "    }\n",
       "\n",
       "    .dataframe thead th {\n",
       "        text-align: right;\n",
       "    }\n",
       "</style>\n",
       "<table border=\"1\" class=\"dataframe\">\n",
       "  <thead>\n",
       "    <tr style=\"text-align: right;\">\n",
       "      <th></th>\n",
       "      <th>ID</th>\n",
       "      <th>Пол</th>\n",
       "      <th>Город</th>\n",
       "      <th>Дата последней email активности</th>\n",
       "    </tr>\n",
       "  </thead>\n",
       "  <tbody>\n",
       "    <tr>\n",
       "      <th>0</th>\n",
       "      <td>AF575B85-917F-475D-8875-00055586E05B</td>\n",
       "      <td>NaN</td>\n",
       "      <td>NaN</td>\n",
       "      <td>NaT</td>\n",
       "    </tr>\n",
       "    <tr>\n",
       "      <th>1</th>\n",
       "      <td>229A9B43-3A15-4A48-8CB6-000EDB240D50</td>\n",
       "      <td>NaN</td>\n",
       "      <td>NaN</td>\n",
       "      <td>NaT</td>\n",
       "    </tr>\n",
       "    <tr>\n",
       "      <th>2</th>\n",
       "      <td>C6606486-05A8-4437-ACF9-00344E54FEE1</td>\n",
       "      <td>NaN</td>\n",
       "      <td>NaN</td>\n",
       "      <td>NaT</td>\n",
       "    </tr>\n",
       "    <tr>\n",
       "      <th>3</th>\n",
       "      <td>6ED86154-A688-4A11-868F-006209035413</td>\n",
       "      <td>Женский                                       ...</td>\n",
       "      <td>NaN</td>\n",
       "      <td>NaT</td>\n",
       "    </tr>\n",
       "    <tr>\n",
       "      <th>4</th>\n",
       "      <td>46C41E20-EA56-4698-9C37-00692FD6FFE8</td>\n",
       "      <td>Женский                                       ...</td>\n",
       "      <td>NaN</td>\n",
       "      <td>NaT</td>\n",
       "    </tr>\n",
       "    <tr>\n",
       "      <th>5</th>\n",
       "      <td>8CBFF8AB-3153-473A-BE84-0079B873EA33</td>\n",
       "      <td>Мужской                                       ...</td>\n",
       "      <td>NaN</td>\n",
       "      <td>2022-07-18 17:36:39</td>\n",
       "    </tr>\n",
       "    <tr>\n",
       "      <th>6</th>\n",
       "      <td>20AC64AC-190E-4091-8D2E-00832BED87C5</td>\n",
       "      <td>Женский                                       ...</td>\n",
       "      <td>NaN</td>\n",
       "      <td>2022-07-18 16:29:53</td>\n",
       "    </tr>\n",
       "    <tr>\n",
       "      <th>7</th>\n",
       "      <td>0E516427-6B84-4268-AB70-009E9E1FD026</td>\n",
       "      <td>NaN</td>\n",
       "      <td>NaN</td>\n",
       "      <td>NaT</td>\n",
       "    </tr>\n",
       "    <tr>\n",
       "      <th>8</th>\n",
       "      <td>3845EBA8-054E-465D-98CE-00A2758E3F92</td>\n",
       "      <td>NaN</td>\n",
       "      <td>NaN</td>\n",
       "      <td>NaT</td>\n",
       "    </tr>\n",
       "    <tr>\n",
       "      <th>9</th>\n",
       "      <td>530A44DC-46A2-48E6-962F-00A67997F7A1</td>\n",
       "      <td>Женский                                       ...</td>\n",
       "      <td>NaN</td>\n",
       "      <td>2022-07-18 16:29:50</td>\n",
       "    </tr>\n",
       "  </tbody>\n",
       "</table>\n",
       "</div>"
      ],
      "text/plain": [
       "                                     ID  \\\n",
       "0  AF575B85-917F-475D-8875-00055586E05B   \n",
       "1  229A9B43-3A15-4A48-8CB6-000EDB240D50   \n",
       "2  C6606486-05A8-4437-ACF9-00344E54FEE1   \n",
       "3  6ED86154-A688-4A11-868F-006209035413   \n",
       "4  46C41E20-EA56-4698-9C37-00692FD6FFE8   \n",
       "5  8CBFF8AB-3153-473A-BE84-0079B873EA33   \n",
       "6  20AC64AC-190E-4091-8D2E-00832BED87C5   \n",
       "7  0E516427-6B84-4268-AB70-009E9E1FD026   \n",
       "8  3845EBA8-054E-465D-98CE-00A2758E3F92   \n",
       "9  530A44DC-46A2-48E6-962F-00A67997F7A1   \n",
       "\n",
       "                                                 Пол Город  \\\n",
       "0                                                NaN   NaN   \n",
       "1                                                NaN   NaN   \n",
       "2                                                NaN   NaN   \n",
       "3  Женский                                       ...   NaN   \n",
       "4  Женский                                       ...   NaN   \n",
       "5  Мужской                                       ...   NaN   \n",
       "6  Женский                                       ...   NaN   \n",
       "7                                                NaN   NaN   \n",
       "8                                                NaN   NaN   \n",
       "9  Женский                                       ...   NaN   \n",
       "\n",
       "  Дата последней email активности  \n",
       "0                             NaT  \n",
       "1                             NaT  \n",
       "2                             NaT  \n",
       "3                             NaT  \n",
       "4                             NaT  \n",
       "5             2022-07-18 17:36:39  \n",
       "6             2022-07-18 16:29:53  \n",
       "7                             NaT  \n",
       "8                             NaT  \n",
       "9             2022-07-18 16:29:50  "
      ]
     },
     "metadata": {},
     "output_type": "display_data"
    },
    {
     "data": {
      "text/plain": [
       "None"
      ]
     },
     "metadata": {},
     "output_type": "display_data"
    },
    {
     "name": "stdout",
     "output_type": "stream",
     "text": [
      "<class 'pandas.core.frame.DataFrame'>\n",
      "RangeIndex: 14043 entries, 0 to 14042\n",
      "Data columns (total 6 columns):\n",
      " #   Column              Non-Null Count  Dtype         \n",
      "---  ------              --------------  -----         \n",
      " 0   Donor ID            14043 non-null  object        \n",
      " 1   Дата платежа        14043 non-null  datetime64[ns]\n",
      " 2   Сумма платежа       14043 non-null  float64       \n",
      " 3   Рекуррентный        14043 non-null  object        \n",
      " 4   Назначение платежа  12774 non-null  object        \n",
      " 5   Канал оплаты        14043 non-null  object        \n",
      "dtypes: datetime64[ns](1), float64(1), object(4)\n",
      "memory usage: 658.4+ KB\n"
     ]
    },
    {
     "data": {
      "text/html": [
       "<div>\n",
       "<style scoped>\n",
       "    .dataframe tbody tr th:only-of-type {\n",
       "        vertical-align: middle;\n",
       "    }\n",
       "\n",
       "    .dataframe tbody tr th {\n",
       "        vertical-align: top;\n",
       "    }\n",
       "\n",
       "    .dataframe thead th {\n",
       "        text-align: right;\n",
       "    }\n",
       "</style>\n",
       "<table border=\"1\" class=\"dataframe\">\n",
       "  <thead>\n",
       "    <tr style=\"text-align: right;\">\n",
       "      <th></th>\n",
       "      <th>Donor ID</th>\n",
       "      <th>Дата платежа</th>\n",
       "      <th>Сумма платежа</th>\n",
       "      <th>Рекуррентный</th>\n",
       "      <th>Назначение платежа</th>\n",
       "      <th>Канал оплаты</th>\n",
       "    </tr>\n",
       "  </thead>\n",
       "  <tbody>\n",
       "    <tr>\n",
       "      <th>0</th>\n",
       "      <td>DE5393F9-9585-4057-B7FB-24B69697FC08</td>\n",
       "      <td>2022-07-03 19:49:48</td>\n",
       "      <td>300.0</td>\n",
       "      <td>Да                                            ...</td>\n",
       "      <td>ПОЖЕРТВОВАНИЕ  undefined</td>\n",
       "      <td>Банковские карты</td>\n",
       "    </tr>\n",
       "    <tr>\n",
       "      <th>1</th>\n",
       "      <td>81CD4BEF-443E-4D36-B34F-664E11182D65</td>\n",
       "      <td>2020-03-14 12:20:02</td>\n",
       "      <td>300.0</td>\n",
       "      <td>Нет                                           ...</td>\n",
       "      <td>SMS bdd</td>\n",
       "      <td>SMS</td>\n",
       "    </tr>\n",
       "    <tr>\n",
       "      <th>2</th>\n",
       "      <td>D3BEB76D-D8B6-47E2-8109-44F1B278943B</td>\n",
       "      <td>2022-04-07 00:00:00</td>\n",
       "      <td>16.0</td>\n",
       "      <td>Нет                                           ...</td>\n",
       "      <td>Добровольное пожертвование. НДС не облагается</td>\n",
       "      <td>Прямые поступления на счет</td>\n",
       "    </tr>\n",
       "    <tr>\n",
       "      <th>3</th>\n",
       "      <td>F1310736-B229-4AAC-99B7-F13ACECF67CB</td>\n",
       "      <td>2019-12-26 02:25:42</td>\n",
       "      <td>300.0</td>\n",
       "      <td>Нет                                           ...</td>\n",
       "      <td>NaN</td>\n",
       "      <td>SMS</td>\n",
       "    </tr>\n",
       "    <tr>\n",
       "      <th>4</th>\n",
       "      <td>61C3D86B-39DA-445C-9D7F-9924CE9BDA14</td>\n",
       "      <td>2021-06-26 01:26:07</td>\n",
       "      <td>200.0</td>\n",
       "      <td>Да                                            ...</td>\n",
       "      <td>ПОЖЕРТВОВАНИЕ  undefined</td>\n",
       "      <td>Банковские карты</td>\n",
       "    </tr>\n",
       "    <tr>\n",
       "      <th>5</th>\n",
       "      <td>6FDEE73B-0270-4AFA-BA21-579E5B970D6A</td>\n",
       "      <td>2017-08-26 18:16:27</td>\n",
       "      <td>100.0</td>\n",
       "      <td>Да                                            ...</td>\n",
       "      <td>Пожертвование в фонд помощи детям-отказникам и...</td>\n",
       "      <td>Банковские карты</td>\n",
       "    </tr>\n",
       "    <tr>\n",
       "      <th>6</th>\n",
       "      <td>F66CEFEF-38BB-4E7A-A795-207E19A03005</td>\n",
       "      <td>2017-06-28 14:15:06</td>\n",
       "      <td>2000.0</td>\n",
       "      <td>Да                                            ...</td>\n",
       "      <td>Пожертвование в фонд помощи детям-отказникам и...</td>\n",
       "      <td>Банковские карты</td>\n",
       "    </tr>\n",
       "    <tr>\n",
       "      <th>7</th>\n",
       "      <td>C09905A1-2059-4FAB-B74B-F52B5913CF84</td>\n",
       "      <td>2020-06-01 14:43:58</td>\n",
       "      <td>200.0</td>\n",
       "      <td>Да                                            ...</td>\n",
       "      <td>ПОЖЕРТВОВАНИЕ</td>\n",
       "      <td>Банковские карты</td>\n",
       "    </tr>\n",
       "    <tr>\n",
       "      <th>8</th>\n",
       "      <td>BBA4E944-A48D-44B8-A0E6-E4FEB6486097</td>\n",
       "      <td>2021-12-07 17:32:21</td>\n",
       "      <td>500.0</td>\n",
       "      <td>Да                                            ...</td>\n",
       "      <td>ПОЖЕРТВОВАНИЕ  undefined</td>\n",
       "      <td>Банковские карты</td>\n",
       "    </tr>\n",
       "    <tr>\n",
       "      <th>9</th>\n",
       "      <td>08C3988B-C0FF-44EE-83BF-5A75E18110D2</td>\n",
       "      <td>2019-11-05 20:59:40</td>\n",
       "      <td>100.0</td>\n",
       "      <td>Да                                            ...</td>\n",
       "      <td>ПОЖЕРТВОВАНИЕ  undefined</td>\n",
       "      <td>Банковские карты</td>\n",
       "    </tr>\n",
       "  </tbody>\n",
       "</table>\n",
       "</div>"
      ],
      "text/plain": [
       "                               Donor ID        Дата платежа  Сумма платежа  \\\n",
       "0  DE5393F9-9585-4057-B7FB-24B69697FC08 2022-07-03 19:49:48          300.0   \n",
       "1  81CD4BEF-443E-4D36-B34F-664E11182D65 2020-03-14 12:20:02          300.0   \n",
       "2  D3BEB76D-D8B6-47E2-8109-44F1B278943B 2022-04-07 00:00:00           16.0   \n",
       "3  F1310736-B229-4AAC-99B7-F13ACECF67CB 2019-12-26 02:25:42          300.0   \n",
       "4  61C3D86B-39DA-445C-9D7F-9924CE9BDA14 2021-06-26 01:26:07          200.0   \n",
       "5  6FDEE73B-0270-4AFA-BA21-579E5B970D6A 2017-08-26 18:16:27          100.0   \n",
       "6  F66CEFEF-38BB-4E7A-A795-207E19A03005 2017-06-28 14:15:06         2000.0   \n",
       "7  C09905A1-2059-4FAB-B74B-F52B5913CF84 2020-06-01 14:43:58          200.0   \n",
       "8  BBA4E944-A48D-44B8-A0E6-E4FEB6486097 2021-12-07 17:32:21          500.0   \n",
       "9  08C3988B-C0FF-44EE-83BF-5A75E18110D2 2019-11-05 20:59:40          100.0   \n",
       "\n",
       "                                        Рекуррентный  \\\n",
       "0  Да                                            ...   \n",
       "1  Нет                                           ...   \n",
       "2  Нет                                           ...   \n",
       "3  Нет                                           ...   \n",
       "4  Да                                            ...   \n",
       "5  Да                                            ...   \n",
       "6  Да                                            ...   \n",
       "7  Да                                            ...   \n",
       "8  Да                                            ...   \n",
       "9  Да                                            ...   \n",
       "\n",
       "                                  Назначение платежа  \\\n",
       "0                           ПОЖЕРТВОВАНИЕ  undefined   \n",
       "1                                            SMS bdd   \n",
       "2      Добровольное пожертвование. НДС не облагается   \n",
       "3                                                NaN   \n",
       "4                           ПОЖЕРТВОВАНИЕ  undefined   \n",
       "5  Пожертвование в фонд помощи детям-отказникам и...   \n",
       "6  Пожертвование в фонд помощи детям-отказникам и...   \n",
       "7                                      ПОЖЕРТВОВАНИЕ   \n",
       "8                           ПОЖЕРТВОВАНИЕ  undefined   \n",
       "9                           ПОЖЕРТВОВАНИЕ  undefined   \n",
       "\n",
       "                   Канал оплаты  \n",
       "0            Банковские карты    \n",
       "1                         SMS    \n",
       "2  Прямые поступления на счет    \n",
       "3                         SMS    \n",
       "4            Банковские карты    \n",
       "5            Банковские карты    \n",
       "6            Банковские карты    \n",
       "7            Банковские карты    \n",
       "8            Банковские карты    \n",
       "9            Банковские карты    "
      ]
     },
     "metadata": {},
     "output_type": "display_data"
    },
    {
     "data": {
      "text/plain": [
       "None"
      ]
     },
     "metadata": {},
     "output_type": "display_data"
    }
   ],
   "source": [
    "donors = pd.read_excel('Выгрузка для ЯП_2.xlsx', sheet_name='Доноры')\n",
    "donats = pd.read_excel('Выгрузка для ЯП_2.xlsx', sheet_name='Пожертвования')\n",
    "\n",
    "display(donors.head(10), donors.info())\n",
    "display(donats.head(10), donats.info())"
   ]
  },
  {
   "cell_type": "code",
   "execution_count": 3,
   "metadata": {
    "colab": {
     "base_uri": "https://localhost:8080/",
     "height": 53
    },
    "id": "juOsdEuJfkZw",
    "outputId": "b1ac44d8-0955-4635-95aa-d1f2172d634b"
   },
   "outputs": [
    {
     "data": {
      "text/plain": [
       "3683"
      ]
     },
     "metadata": {},
     "output_type": "display_data"
    },
    {
     "data": {
      "text/plain": [
       "3683"
      ]
     },
     "execution_count": 3,
     "metadata": {},
     "output_type": "execute_result"
    }
   ],
   "source": [
    "# сравним количество уникальных id в обеих датасетах\n",
    "display(len(donors['ID'].unique()))\n",
    "len(donats['Donor ID'].unique())"
   ]
  },
  {
   "cell_type": "code",
   "execution_count": 4,
   "metadata": {
    "colab": {
     "base_uri": "https://localhost:8080/",
     "height": 528
    },
    "id": "scKqKTXjf0dt",
    "outputId": "ebd39726-6520-4cd9-ee59-624d00bc7e15"
   },
   "outputs": [
    {
     "data": {
      "text/html": [
       "<div>\n",
       "<style scoped>\n",
       "    .dataframe tbody tr th:only-of-type {\n",
       "        vertical-align: middle;\n",
       "    }\n",
       "\n",
       "    .dataframe tbody tr th {\n",
       "        vertical-align: top;\n",
       "    }\n",
       "\n",
       "    .dataframe thead th {\n",
       "        text-align: right;\n",
       "    }\n",
       "</style>\n",
       "<table border=\"1\" class=\"dataframe\">\n",
       "  <thead>\n",
       "    <tr style=\"text-align: right;\">\n",
       "      <th></th>\n",
       "      <th>ID</th>\n",
       "      <th>Дата платежа</th>\n",
       "      <th>Сумма платежа</th>\n",
       "      <th>Рекуррентный</th>\n",
       "      <th>Назначение платежа</th>\n",
       "      <th>Канал оплаты</th>\n",
       "      <th>Пол</th>\n",
       "      <th>Город</th>\n",
       "      <th>Дата последней email активности</th>\n",
       "    </tr>\n",
       "  </thead>\n",
       "  <tbody>\n",
       "    <tr>\n",
       "      <th>0</th>\n",
       "      <td>DE5393F9-9585-4057-B7FB-24B69697FC08</td>\n",
       "      <td>2022-07-03 19:49:48</td>\n",
       "      <td>300.0</td>\n",
       "      <td>Да                                            ...</td>\n",
       "      <td>ПОЖЕРТВОВАНИЕ  undefined</td>\n",
       "      <td>Банковские карты</td>\n",
       "      <td>Женский                                       ...</td>\n",
       "      <td>Москва</td>\n",
       "      <td>2022-06-03 20:15:57</td>\n",
       "    </tr>\n",
       "    <tr>\n",
       "      <th>1</th>\n",
       "      <td>81CD4BEF-443E-4D36-B34F-664E11182D65</td>\n",
       "      <td>2020-03-14 12:20:02</td>\n",
       "      <td>300.0</td>\n",
       "      <td>Нет                                           ...</td>\n",
       "      <td>SMS bdd</td>\n",
       "      <td>SMS</td>\n",
       "      <td>Женский                                       ...</td>\n",
       "      <td>Москва</td>\n",
       "      <td>2022-07-18 17:19:02</td>\n",
       "    </tr>\n",
       "    <tr>\n",
       "      <th>2</th>\n",
       "      <td>D3BEB76D-D8B6-47E2-8109-44F1B278943B</td>\n",
       "      <td>2022-04-07 00:00:00</td>\n",
       "      <td>16.0</td>\n",
       "      <td>Нет                                           ...</td>\n",
       "      <td>Добровольное пожертвование. НДС не облагается</td>\n",
       "      <td>Прямые поступления на счет</td>\n",
       "      <td>Мужской                                       ...</td>\n",
       "      <td>NaN</td>\n",
       "      <td>NaT</td>\n",
       "    </tr>\n",
       "    <tr>\n",
       "      <th>3</th>\n",
       "      <td>F1310736-B229-4AAC-99B7-F13ACECF67CB</td>\n",
       "      <td>2019-12-26 02:25:42</td>\n",
       "      <td>300.0</td>\n",
       "      <td>Нет                                           ...</td>\n",
       "      <td>NaN</td>\n",
       "      <td>SMS</td>\n",
       "      <td>NaN</td>\n",
       "      <td>NaN</td>\n",
       "      <td>NaT</td>\n",
       "    </tr>\n",
       "    <tr>\n",
       "      <th>4</th>\n",
       "      <td>61C3D86B-39DA-445C-9D7F-9924CE9BDA14</td>\n",
       "      <td>2021-06-26 01:26:07</td>\n",
       "      <td>200.0</td>\n",
       "      <td>Да                                            ...</td>\n",
       "      <td>ПОЖЕРТВОВАНИЕ  undefined</td>\n",
       "      <td>Банковские карты</td>\n",
       "      <td>Женский                                       ...</td>\n",
       "      <td>NaN</td>\n",
       "      <td>2022-07-20 20:32:37</td>\n",
       "    </tr>\n",
       "  </tbody>\n",
       "</table>\n",
       "</div>"
      ],
      "text/plain": [
       "                                     ID        Дата платежа  Сумма платежа  \\\n",
       "0  DE5393F9-9585-4057-B7FB-24B69697FC08 2022-07-03 19:49:48          300.0   \n",
       "1  81CD4BEF-443E-4D36-B34F-664E11182D65 2020-03-14 12:20:02          300.0   \n",
       "2  D3BEB76D-D8B6-47E2-8109-44F1B278943B 2022-04-07 00:00:00           16.0   \n",
       "3  F1310736-B229-4AAC-99B7-F13ACECF67CB 2019-12-26 02:25:42          300.0   \n",
       "4  61C3D86B-39DA-445C-9D7F-9924CE9BDA14 2021-06-26 01:26:07          200.0   \n",
       "\n",
       "                                        Рекуррентный  \\\n",
       "0  Да                                            ...   \n",
       "1  Нет                                           ...   \n",
       "2  Нет                                           ...   \n",
       "3  Нет                                           ...   \n",
       "4  Да                                            ...   \n",
       "\n",
       "                              Назначение платежа  \\\n",
       "0                       ПОЖЕРТВОВАНИЕ  undefined   \n",
       "1                                        SMS bdd   \n",
       "2  Добровольное пожертвование. НДС не облагается   \n",
       "3                                            NaN   \n",
       "4                       ПОЖЕРТВОВАНИЕ  undefined   \n",
       "\n",
       "                   Канал оплаты  \\\n",
       "0            Банковские карты     \n",
       "1                         SMS     \n",
       "2  Прямые поступления на счет     \n",
       "3                         SMS     \n",
       "4            Банковские карты     \n",
       "\n",
       "                                                 Пол   Город  \\\n",
       "0  Женский                                       ...  Москва   \n",
       "1  Женский                                       ...  Москва   \n",
       "2  Мужской                                       ...     NaN   \n",
       "3                                                NaN     NaN   \n",
       "4  Женский                                       ...     NaN   \n",
       "\n",
       "  Дата последней email активности  \n",
       "0             2022-06-03 20:15:57  \n",
       "1             2022-07-18 17:19:02  \n",
       "2                             NaT  \n",
       "3                             NaT  \n",
       "4             2022-07-20 20:32:37  "
      ]
     },
     "execution_count": 4,
     "metadata": {},
     "output_type": "execute_result"
    }
   ],
   "source": [
    "# т.к. количество уникальных id равны, объединим таблицы в одну,\n",
    "# предварительно переименовав столбец в donats\n",
    "\n",
    "donats = donats.rename(columns={'Donor ID' : 'ID'})\n",
    "\n",
    "df = donats.merge(donors, how='left', on = 'ID')\n",
    "df.head()"
   ]
  },
  {
   "cell_type": "code",
   "execution_count": 5,
   "metadata": {
    "colab": {
     "base_uri": "https://localhost:8080/"
    },
    "id": "hA3xbkHTgMx8",
    "outputId": "f3c3fdfd-5be0-46fd-c412-8c183efb6aed"
   },
   "outputs": [
    {
     "data": {
      "text/plain": [
       "Index(['id', 'date', 'amount', 'is_reccurent', 'purpose', 'channel', 'gender',\n",
       "       'city', 'last_email_activity'],\n",
       "      dtype='object')"
      ]
     },
     "execution_count": 5,
     "metadata": {},
     "output_type": "execute_result"
    }
   ],
   "source": [
    "# переименуем столбцы, приведя их к змеиному регистру\n",
    "df = df.rename(columns = \n",
    "              {\n",
    "                  'ID':'id',\n",
    "                  'Дата платежа':'date',\n",
    "                  'Сумма платежа':'amount',\n",
    "                  'Пол':'gender',\n",
    "                  'Город':'city',\n",
    "                  'Назначение платежа' : 'purpose',\n",
    "                  'Рекуррентный' : 'is_reccurent',\n",
    "                  'Канал оплаты' : 'channel',\n",
    "                  'Дата последней email активности': 'last_email_activity'\n",
    "                  \n",
    "              }\n",
    "              )\n",
    "df.columns"
   ]
  },
  {
   "cell_type": "code",
   "execution_count": 6,
   "metadata": {},
   "outputs": [
    {
     "data": {
      "text/html": [
       "<div>\n",
       "<style scoped>\n",
       "    .dataframe tbody tr th:only-of-type {\n",
       "        vertical-align: middle;\n",
       "    }\n",
       "\n",
       "    .dataframe tbody tr th {\n",
       "        vertical-align: top;\n",
       "    }\n",
       "\n",
       "    .dataframe thead th {\n",
       "        text-align: right;\n",
       "    }\n",
       "</style>\n",
       "<table border=\"1\" class=\"dataframe\">\n",
       "  <thead>\n",
       "    <tr style=\"text-align: right;\">\n",
       "      <th></th>\n",
       "      <th>purpose</th>\n",
       "    </tr>\n",
       "  </thead>\n",
       "  <tbody>\n",
       "    <tr>\n",
       "      <th>0</th>\n",
       "      <td>пожертвование  undefined</td>\n",
       "    </tr>\n",
       "    <tr>\n",
       "      <th>1</th>\n",
       "      <td>sms bdd</td>\n",
       "    </tr>\n",
       "    <tr>\n",
       "      <th>2</th>\n",
       "      <td>добровольное пожертвование. ндс не облагается</td>\n",
       "    </tr>\n",
       "    <tr>\n",
       "      <th>3</th>\n",
       "      <td>NaN</td>\n",
       "    </tr>\n",
       "    <tr>\n",
       "      <th>4</th>\n",
       "      <td>пожертвование  undefined</td>\n",
       "    </tr>\n",
       "  </tbody>\n",
       "</table>\n",
       "</div>"
      ],
      "text/plain": [
       "                                         purpose\n",
       "0                       пожертвование  undefined\n",
       "1                                        sms bdd\n",
       "2  добровольное пожертвование. ндс не облагается\n",
       "3                                            NaN\n",
       "4                       пожертвование  undefined"
      ]
     },
     "execution_count": 6,
     "metadata": {},
     "output_type": "execute_result"
    }
   ],
   "source": [
    "# приведем данные в столбце 'purpose' к нижнему регистру\n",
    "\n",
    "df['purpose'] = df['purpose'].str.lower()\n",
    "(df['purpose'].head()).to_frame()"
   ]
  },
  {
   "cell_type": "code",
   "execution_count": 7,
   "metadata": {
    "colab": {
     "base_uri": "https://localhost:8080/"
    },
    "id": "rmi8pJjRhGxz",
    "outputId": "defd2c1d-b623-4ba4-e477-711dc9ca56c7"
   },
   "outputs": [
    {
     "data": {
      "text/plain": [
       "id                     0.000000\n",
       "date                   0.000000\n",
       "amount                 0.000000\n",
       "is_reccurent           0.000000\n",
       "purpose                0.090437\n",
       "channel                0.000000\n",
       "gender                 0.111799\n",
       "city                   0.520188\n",
       "last_email_activity    0.211493\n",
       "dtype: float64"
      ]
     },
     "execution_count": 7,
     "metadata": {},
     "output_type": "execute_result"
    }
   ],
   "source": [
    "# посмотрим процентное соотношение пропусков\n",
    "df.isna().sum()/len(df['id'])"
   ]
  },
  {
   "cell_type": "code",
   "execution_count": 8,
   "metadata": {},
   "outputs": [
    {
     "data": {
      "text/plain": [
       "id                     0.0\n",
       "date                   0.0\n",
       "amount                 0.0\n",
       "is_reccurent           0.0\n",
       "purpose                0.0\n",
       "channel                0.0\n",
       "gender                 0.0\n",
       "city                   0.0\n",
       "last_email_activity    0.0\n",
       "dtype: float64"
      ]
     },
     "execution_count": 8,
     "metadata": {},
     "output_type": "execute_result"
    }
   ],
   "source": [
    "# заполним пропуски нулями\n",
    "df = df.fillna('0')\n",
    "df.isna().sum()/len(df['id'])"
   ]
  },
  {
   "cell_type": "code",
   "execution_count": 9,
   "metadata": {},
   "outputs": [
    {
     "data": {
      "text/html": [
       "<div>\n",
       "<style scoped>\n",
       "    .dataframe tbody tr th:only-of-type {\n",
       "        vertical-align: middle;\n",
       "    }\n",
       "\n",
       "    .dataframe tbody tr th {\n",
       "        vertical-align: top;\n",
       "    }\n",
       "\n",
       "    .dataframe thead th {\n",
       "        text-align: right;\n",
       "    }\n",
       "</style>\n",
       "<table border=\"1\" class=\"dataframe\">\n",
       "  <thead>\n",
       "    <tr style=\"text-align: right;\">\n",
       "      <th></th>\n",
       "      <th>id</th>\n",
       "      <th>date</th>\n",
       "      <th>amount</th>\n",
       "      <th>is_reccurent</th>\n",
       "      <th>purpose</th>\n",
       "      <th>channel</th>\n",
       "      <th>gender</th>\n",
       "      <th>city</th>\n",
       "      <th>last_email_activity</th>\n",
       "    </tr>\n",
       "  </thead>\n",
       "  <tbody>\n",
       "    <tr>\n",
       "      <th>133</th>\n",
       "      <td>5D288F50-4F0E-4FDF-A026-863590DF3F69</td>\n",
       "      <td>2022-04-28</td>\n",
       "      <td>1.0</td>\n",
       "      <td>Нет                                           ...</td>\n",
       "      <td>благотворительное пожертвование 1.00</td>\n",
       "      <td>Прямые поступления на счет</td>\n",
       "      <td>Мужской                                       ...</td>\n",
       "      <td>0</td>\n",
       "      <td>0</td>\n",
       "    </tr>\n",
       "    <tr>\n",
       "      <th>297</th>\n",
       "      <td>5D288F50-4F0E-4FDF-A026-863590DF3F69</td>\n",
       "      <td>2022-04-28</td>\n",
       "      <td>1.0</td>\n",
       "      <td>Нет                                           ...</td>\n",
       "      <td>благотворительное пожертвование 1.00</td>\n",
       "      <td>Прямые поступления на счет</td>\n",
       "      <td>Мужской                                       ...</td>\n",
       "      <td>0</td>\n",
       "      <td>0</td>\n",
       "    </tr>\n",
       "    <tr>\n",
       "      <th>1438</th>\n",
       "      <td>5D288F50-4F0E-4FDF-A026-863590DF3F69</td>\n",
       "      <td>2022-04-28</td>\n",
       "      <td>1.0</td>\n",
       "      <td>Нет                                           ...</td>\n",
       "      <td>благотворительное пожертвование 1.00</td>\n",
       "      <td>Прямые поступления на счет</td>\n",
       "      <td>Мужской                                       ...</td>\n",
       "      <td>0</td>\n",
       "      <td>0</td>\n",
       "    </tr>\n",
       "    <tr>\n",
       "      <th>2837</th>\n",
       "      <td>5D288F50-4F0E-4FDF-A026-863590DF3F69</td>\n",
       "      <td>2022-04-28</td>\n",
       "      <td>1.0</td>\n",
       "      <td>Нет                                           ...</td>\n",
       "      <td>благотворительное пожертвование 1.00</td>\n",
       "      <td>Прямые поступления на счет</td>\n",
       "      <td>Мужской                                       ...</td>\n",
       "      <td>0</td>\n",
       "      <td>0</td>\n",
       "    </tr>\n",
       "    <tr>\n",
       "      <th>5166</th>\n",
       "      <td>FFCCBA23-89CA-4A22-BD8A-7CAD2D9EB7F7</td>\n",
       "      <td>2021-09-13</td>\n",
       "      <td>20.0</td>\n",
       "      <td>Нет                                           ...</td>\n",
       "      <td>добровольное пожертвование. ндс не облагается</td>\n",
       "      <td>Прямые поступления на счет</td>\n",
       "      <td>Женский                                       ...</td>\n",
       "      <td>0</td>\n",
       "      <td>0</td>\n",
       "    </tr>\n",
       "    <tr>\n",
       "      <th>7654</th>\n",
       "      <td>FFCCBA23-89CA-4A22-BD8A-7CAD2D9EB7F7</td>\n",
       "      <td>2021-09-13</td>\n",
       "      <td>20.0</td>\n",
       "      <td>Нет                                           ...</td>\n",
       "      <td>добровольное пожертвование. ндс не облагается</td>\n",
       "      <td>Прямые поступления на счет</td>\n",
       "      <td>Женский                                       ...</td>\n",
       "      <td>0</td>\n",
       "      <td>0</td>\n",
       "    </tr>\n",
       "    <tr>\n",
       "      <th>9594</th>\n",
       "      <td>D38F6A22-9BEF-4484-B377-ED8ED1DB4553</td>\n",
       "      <td>2021-02-11</td>\n",
       "      <td>1.0</td>\n",
       "      <td>Нет                                           ...</td>\n",
       "      <td>добровольное пожертвование;сумма 1.00 руб.;ком...</td>\n",
       "      <td>Прямые поступления на счет</td>\n",
       "      <td>Женский                                       ...</td>\n",
       "      <td>0</td>\n",
       "      <td>0</td>\n",
       "    </tr>\n",
       "    <tr>\n",
       "      <th>10112</th>\n",
       "      <td>FFCCBA23-89CA-4A22-BD8A-7CAD2D9EB7F7</td>\n",
       "      <td>2021-09-13</td>\n",
       "      <td>20.0</td>\n",
       "      <td>Нет                                           ...</td>\n",
       "      <td>добровольное пожертвование. ндс не облагается</td>\n",
       "      <td>Прямые поступления на счет</td>\n",
       "      <td>Женский                                       ...</td>\n",
       "      <td>0</td>\n",
       "      <td>0</td>\n",
       "    </tr>\n",
       "    <tr>\n",
       "      <th>10685</th>\n",
       "      <td>5D288F50-4F0E-4FDF-A026-863590DF3F69</td>\n",
       "      <td>2022-04-28</td>\n",
       "      <td>1.0</td>\n",
       "      <td>Нет                                           ...</td>\n",
       "      <td>благотворительное пожертвование 1.00</td>\n",
       "      <td>Прямые поступления на счет</td>\n",
       "      <td>Мужской                                       ...</td>\n",
       "      <td>0</td>\n",
       "      <td>0</td>\n",
       "    </tr>\n",
       "    <tr>\n",
       "      <th>11757</th>\n",
       "      <td>5D288F50-4F0E-4FDF-A026-863590DF3F69</td>\n",
       "      <td>2022-04-28</td>\n",
       "      <td>1.0</td>\n",
       "      <td>Нет                                           ...</td>\n",
       "      <td>благотворительное пожертвование 1.00</td>\n",
       "      <td>Прямые поступления на счет</td>\n",
       "      <td>Мужской                                       ...</td>\n",
       "      <td>0</td>\n",
       "      <td>0</td>\n",
       "    </tr>\n",
       "    <tr>\n",
       "      <th>13775</th>\n",
       "      <td>8FBCD1D4-5490-496F-A089-FB39AB7975AF</td>\n",
       "      <td>2021-04-12</td>\n",
       "      <td>10.0</td>\n",
       "      <td>Нет                                           ...</td>\n",
       "      <td>добровольное пожертвование. ндс не облагается</td>\n",
       "      <td>Прямые поступления на счет</td>\n",
       "      <td>Женский                                       ...</td>\n",
       "      <td>0</td>\n",
       "      <td>0</td>\n",
       "    </tr>\n",
       "    <tr>\n",
       "      <th>13990</th>\n",
       "      <td>C6CA05F1-C324-46EE-8A5A-7B1302DBB149</td>\n",
       "      <td>2020-12-27</td>\n",
       "      <td>100.0</td>\n",
       "      <td>Нет                                           ...</td>\n",
       "      <td>добровольное пожертвование;сумма 100 руб.;коми...</td>\n",
       "      <td>Прямые поступления на счет</td>\n",
       "      <td>0</td>\n",
       "      <td>Ереван</td>\n",
       "      <td>0</td>\n",
       "    </tr>\n",
       "  </tbody>\n",
       "</table>\n",
       "</div>"
      ],
      "text/plain": [
       "                                         id       date  amount  \\\n",
       "133    5D288F50-4F0E-4FDF-A026-863590DF3F69 2022-04-28     1.0   \n",
       "297    5D288F50-4F0E-4FDF-A026-863590DF3F69 2022-04-28     1.0   \n",
       "1438   5D288F50-4F0E-4FDF-A026-863590DF3F69 2022-04-28     1.0   \n",
       "2837   5D288F50-4F0E-4FDF-A026-863590DF3F69 2022-04-28     1.0   \n",
       "5166   FFCCBA23-89CA-4A22-BD8A-7CAD2D9EB7F7 2021-09-13    20.0   \n",
       "7654   FFCCBA23-89CA-4A22-BD8A-7CAD2D9EB7F7 2021-09-13    20.0   \n",
       "9594   D38F6A22-9BEF-4484-B377-ED8ED1DB4553 2021-02-11     1.0   \n",
       "10112  FFCCBA23-89CA-4A22-BD8A-7CAD2D9EB7F7 2021-09-13    20.0   \n",
       "10685  5D288F50-4F0E-4FDF-A026-863590DF3F69 2022-04-28     1.0   \n",
       "11757  5D288F50-4F0E-4FDF-A026-863590DF3F69 2022-04-28     1.0   \n",
       "13775  8FBCD1D4-5490-496F-A089-FB39AB7975AF 2021-04-12    10.0   \n",
       "13990  C6CA05F1-C324-46EE-8A5A-7B1302DBB149 2020-12-27   100.0   \n",
       "\n",
       "                                            is_reccurent  \\\n",
       "133    Нет                                           ...   \n",
       "297    Нет                                           ...   \n",
       "1438   Нет                                           ...   \n",
       "2837   Нет                                           ...   \n",
       "5166   Нет                                           ...   \n",
       "7654   Нет                                           ...   \n",
       "9594   Нет                                           ...   \n",
       "10112  Нет                                           ...   \n",
       "10685  Нет                                           ...   \n",
       "11757  Нет                                           ...   \n",
       "13775  Нет                                           ...   \n",
       "13990  Нет                                           ...   \n",
       "\n",
       "                                                 purpose  \\\n",
       "133                 благотворительное пожертвование 1.00   \n",
       "297                 благотворительное пожертвование 1.00   \n",
       "1438                благотворительное пожертвование 1.00   \n",
       "2837                благотворительное пожертвование 1.00   \n",
       "5166       добровольное пожертвование. ндс не облагается   \n",
       "7654       добровольное пожертвование. ндс не облагается   \n",
       "9594   добровольное пожертвование;сумма 1.00 руб.;ком...   \n",
       "10112      добровольное пожертвование. ндс не облагается   \n",
       "10685               благотворительное пожертвование 1.00   \n",
       "11757               благотворительное пожертвование 1.00   \n",
       "13775      добровольное пожертвование. ндс не облагается   \n",
       "13990  добровольное пожертвование;сумма 100 руб.;коми...   \n",
       "\n",
       "                            channel  \\\n",
       "133    Прямые поступления на счет     \n",
       "297    Прямые поступления на счет     \n",
       "1438   Прямые поступления на счет     \n",
       "2837   Прямые поступления на счет     \n",
       "5166   Прямые поступления на счет     \n",
       "7654   Прямые поступления на счет     \n",
       "9594   Прямые поступления на счет     \n",
       "10112  Прямые поступления на счет     \n",
       "10685  Прямые поступления на счет     \n",
       "11757  Прямые поступления на счет     \n",
       "13775  Прямые поступления на счет     \n",
       "13990  Прямые поступления на счет     \n",
       "\n",
       "                                                  gender    city  \\\n",
       "133    Мужской                                       ...       0   \n",
       "297    Мужской                                       ...       0   \n",
       "1438   Мужской                                       ...       0   \n",
       "2837   Мужской                                       ...       0   \n",
       "5166   Женский                                       ...       0   \n",
       "7654   Женский                                       ...       0   \n",
       "9594   Женский                                       ...       0   \n",
       "10112  Женский                                       ...       0   \n",
       "10685  Мужской                                       ...       0   \n",
       "11757  Мужской                                       ...       0   \n",
       "13775  Женский                                       ...       0   \n",
       "13990                                                  0  Ереван   \n",
       "\n",
       "      last_email_activity  \n",
       "133                     0  \n",
       "297                     0  \n",
       "1438                    0  \n",
       "2837                    0  \n",
       "5166                    0  \n",
       "7654                    0  \n",
       "9594                    0  \n",
       "10112                   0  \n",
       "10685                   0  \n",
       "11757                   0  \n",
       "13775                   0  \n",
       "13990                   0  "
      ]
     },
     "execution_count": 9,
     "metadata": {},
     "output_type": "execute_result"
    }
   ],
   "source": [
    "# проверим наличие дубликатов\n",
    "df.duplicated().sum()\n",
    "df[df.duplicated() == True]"
   ]
  },
  {
   "cell_type": "code",
   "execution_count": 10,
   "metadata": {},
   "outputs": [
    {
     "data": {
      "text/plain": [
       "0"
      ]
     },
     "execution_count": 10,
     "metadata": {},
     "output_type": "execute_result"
    }
   ],
   "source": [
    "# удалим дубликаты\n",
    "df = df.drop_duplicates()\n",
    "df.duplicated().sum()"
   ]
  },
  {
   "cell_type": "code",
   "execution_count": 11,
   "metadata": {},
   "outputs": [],
   "source": [
    "# в столбце 'is_reccurent' содержатся значения со множеством пробелов\n",
    "# заменим их на более удобные знчения 1 и 0\n",
    "df['is_reccurent'] = df['is_reccurent'].replace('Да                                                                                                                                                                                                                                                        ',\n",
    "                                                 1)\n",
    "df['is_reccurent'] = df['is_reccurent'].replace('Нет                                                                                                                                                                                                                                                       ',\n",
    "                                                  0)"
   ]
  },
  {
   "cell_type": "code",
   "execution_count": 12,
   "metadata": {},
   "outputs": [
    {
     "data": {
      "text/plain": [
       "array(['Женский', 'Мужской', '0'], dtype=object)"
      ]
     },
     "execution_count": 12,
     "metadata": {},
     "output_type": "execute_result"
    }
   ],
   "source": [
    "# удалим такие же пробелы в столбце 'gender'\n",
    "df['gender'] = df['gender'].str.strip()\n",
    "df['gender'].unique()"
   ]
  },
  {
   "cell_type": "code",
   "execution_count": 13,
   "metadata": {},
   "outputs": [
    {
     "data": {
      "text/plain": [
       "<AxesSubplot:title={'center':'Распределение количества платежей по годам'}>"
      ]
     },
     "execution_count": 13,
     "metadata": {},
     "output_type": "execute_result"
    },
    {
     "data": {
      "image/png": "[encoded data removed]",
      "text/plain": [
       "<Figure size 1080x360 with 1 Axes>"
      ]
     },
     "metadata": {
      "needs_background": "light"
     },
     "output_type": "display_data"
    }
   ],
   "source": [
    "# добавим столбцы с годом, месяцем, датой, номером дня недели платежа\n",
    "df['day'] = df['date'].dt.day\n",
    "#df['weekday'] = df['date'].dt.weekday\n",
    "df['month'] = df['date'].dt.month\n",
    "df['year'] = df['date'].dt.year\n",
    "df['day_of_week'] = df['date'].dt.day_of_week\n",
    "#удалим столбец с датой\n",
    "#df = df.drop('date',axis=1)\n",
    "\n",
    "# количество платежей по годам\n",
    "df['year'].value_counts().plot(title='Распределение количества платежей по годам', kind='bar', figsize=(15,5))"
   ]
  },
  {
   "cell_type": "markdown",
   "metadata": {},
   "source": [
    "**Вывод:**  В нашем распоряжении информация о 14043 пожертвований<br>\n",
    " Уникальных пользователей (ID): 3683 <br>\n",
    " Удалены дубликаты.<br>\n",
    " Пропуски заменены нулями.<br>\n",
    " Категорезированы назначения пожертвований.<br>\n",
    " Большое количество пожертвований наблюдается начиная с 2019 года. Целесообразно взять этот период для дальнейшей работы. <br>\n"
   ]
  },
  {
   "cell_type": "markdown",
   "metadata": {},
   "source": [
    "## Исследуем пользователей, совершивших повторные пожертвования"
   ]
  },
  {
   "cell_type": "markdown",
   "metadata": {},
   "source": [
    "### Выделим в отдельный датасет"
   ]
  },
  {
   "cell_type": "code",
   "execution_count": 14,
   "metadata": {},
   "outputs": [
    {
     "data": {
      "image/png": "[encoded data removed]",
      "text/plain": [
       "<Figure size 1080x360 with 1 Axes>"
      ]
     },
     "metadata": {
      "needs_background": "light"
     },
     "output_type": "display_data"
    }
   ],
   "source": [
    "# Сохраним информацию о пользователях, совершивших более одного платежа, в отдельный датасет\n",
    "# 1. Вычислим количество платежей от одинаковых ID\n",
    "df1 = df.groupby('id')['id'].count().sort_values(ascending=False)\n",
    "df1.hist(figsize=(15,5), range=(0,10), bins=10);"
   ]
  },
  {
   "cell_type": "markdown",
   "metadata": {},
   "source": [
    "**Вывод:**  Среди всех пользователей значительно преобладают жертвователи, совершившие два платежа.<br>"
   ]
  },
  {
   "cell_type": "code",
   "execution_count": 15,
   "metadata": {},
   "outputs": [
    {
     "data": {
      "text/plain": [
       "1039"
      ]
     },
     "execution_count": 15,
     "metadata": {},
     "output_type": "execute_result"
    }
   ],
   "source": [
    "# 2. вычислим количество пользователей, совершивших более одного платежа\n",
    "(df1>1).sum()"
   ]
  },
  {
   "cell_type": "code",
   "execution_count": 16,
   "metadata": {},
   "outputs": [
    {
     "data": {
      "text/html": [
       "<div>\n",
       "<style scoped>\n",
       "    .dataframe tbody tr th:only-of-type {\n",
       "        vertical-align: middle;\n",
       "    }\n",
       "\n",
       "    .dataframe tbody tr th {\n",
       "        vertical-align: top;\n",
       "    }\n",
       "\n",
       "    .dataframe thead th {\n",
       "        text-align: right;\n",
       "    }\n",
       "</style>\n",
       "<table border=\"1\" class=\"dataframe\">\n",
       "  <thead>\n",
       "    <tr style=\"text-align: right;\">\n",
       "      <th></th>\n",
       "      <th>id</th>\n",
       "      <th>date</th>\n",
       "      <th>amount</th>\n",
       "      <th>is_reccurent</th>\n",
       "      <th>purpose</th>\n",
       "      <th>channel</th>\n",
       "      <th>gender</th>\n",
       "      <th>city</th>\n",
       "      <th>last_email_activity</th>\n",
       "      <th>day</th>\n",
       "      <th>month</th>\n",
       "      <th>year</th>\n",
       "      <th>day_of_week</th>\n",
       "    </tr>\n",
       "  </thead>\n",
       "  <tbody>\n",
       "    <tr>\n",
       "      <th>0</th>\n",
       "      <td>DE5393F9-9585-4057-B7FB-24B69697FC08</td>\n",
       "      <td>2022-07-03 19:49:48</td>\n",
       "      <td>300.0</td>\n",
       "      <td>1</td>\n",
       "      <td>пожертвование  undefined</td>\n",
       "      <td>Банковские карты</td>\n",
       "      <td>Женский</td>\n",
       "      <td>Москва</td>\n",
       "      <td>2022-06-03 20:15:57</td>\n",
       "      <td>3</td>\n",
       "      <td>7</td>\n",
       "      <td>2022</td>\n",
       "      <td>6</td>\n",
       "    </tr>\n",
       "    <tr>\n",
       "      <th>1</th>\n",
       "      <td>81CD4BEF-443E-4D36-B34F-664E11182D65</td>\n",
       "      <td>2020-03-14 12:20:02</td>\n",
       "      <td>300.0</td>\n",
       "      <td>0</td>\n",
       "      <td>sms bdd</td>\n",
       "      <td>SMS</td>\n",
       "      <td>Женский</td>\n",
       "      <td>Москва</td>\n",
       "      <td>2022-07-18 17:19:02</td>\n",
       "      <td>14</td>\n",
       "      <td>3</td>\n",
       "      <td>2020</td>\n",
       "      <td>5</td>\n",
       "    </tr>\n",
       "    <tr>\n",
       "      <th>2</th>\n",
       "      <td>D3BEB76D-D8B6-47E2-8109-44F1B278943B</td>\n",
       "      <td>2022-04-07 00:00:00</td>\n",
       "      <td>16.0</td>\n",
       "      <td>0</td>\n",
       "      <td>добровольное пожертвование. ндс не облагается</td>\n",
       "      <td>Прямые поступления на счет</td>\n",
       "      <td>Мужской</td>\n",
       "      <td>0</td>\n",
       "      <td>0</td>\n",
       "      <td>7</td>\n",
       "      <td>4</td>\n",
       "      <td>2022</td>\n",
       "      <td>3</td>\n",
       "    </tr>\n",
       "    <tr>\n",
       "      <th>4</th>\n",
       "      <td>61C3D86B-39DA-445C-9D7F-9924CE9BDA14</td>\n",
       "      <td>2021-06-26 01:26:07</td>\n",
       "      <td>200.0</td>\n",
       "      <td>1</td>\n",
       "      <td>пожертвование  undefined</td>\n",
       "      <td>Банковские карты</td>\n",
       "      <td>Женский</td>\n",
       "      <td>0</td>\n",
       "      <td>2022-07-20 20:32:37</td>\n",
       "      <td>26</td>\n",
       "      <td>6</td>\n",
       "      <td>2021</td>\n",
       "      <td>5</td>\n",
       "    </tr>\n",
       "    <tr>\n",
       "      <th>5</th>\n",
       "      <td>6FDEE73B-0270-4AFA-BA21-579E5B970D6A</td>\n",
       "      <td>2017-08-26 18:16:27</td>\n",
       "      <td>100.0</td>\n",
       "      <td>1</td>\n",
       "      <td>пожертвование в фонд помощи детям-отказникам и...</td>\n",
       "      <td>Банковские карты</td>\n",
       "      <td>Женский</td>\n",
       "      <td>0</td>\n",
       "      <td>2022-07-18 16:29:38</td>\n",
       "      <td>26</td>\n",
       "      <td>8</td>\n",
       "      <td>2017</td>\n",
       "      <td>5</td>\n",
       "    </tr>\n",
       "  </tbody>\n",
       "</table>\n",
       "</div>"
      ],
      "text/plain": [
       "                                     id                date  amount  \\\n",
       "0  DE5393F9-9585-4057-B7FB-24B69697FC08 2022-07-03 19:49:48   300.0   \n",
       "1  81CD4BEF-443E-4D36-B34F-664E11182D65 2020-03-14 12:20:02   300.0   \n",
       "2  D3BEB76D-D8B6-47E2-8109-44F1B278943B 2022-04-07 00:00:00    16.0   \n",
       "4  61C3D86B-39DA-445C-9D7F-9924CE9BDA14 2021-06-26 01:26:07   200.0   \n",
       "5  6FDEE73B-0270-4AFA-BA21-579E5B970D6A 2017-08-26 18:16:27   100.0   \n",
       "\n",
       "   is_reccurent                                            purpose  \\\n",
       "0             1                           пожертвование  undefined   \n",
       "1             0                                            sms bdd   \n",
       "2             0      добровольное пожертвование. ндс не облагается   \n",
       "4             1                           пожертвование  undefined   \n",
       "5             1  пожертвование в фонд помощи детям-отказникам и...   \n",
       "\n",
       "                        channel   gender    city  last_email_activity  day  \\\n",
       "0            Банковские карты    Женский  Москва  2022-06-03 20:15:57    3   \n",
       "1                         SMS    Женский  Москва  2022-07-18 17:19:02   14   \n",
       "2  Прямые поступления на счет    Мужской       0                    0    7   \n",
       "4            Банковские карты    Женский       0  2022-07-20 20:32:37   26   \n",
       "5            Банковские карты    Женский       0  2022-07-18 16:29:38   26   \n",
       "\n",
       "   month  year  day_of_week  \n",
       "0      7  2022            6  \n",
       "1      3  2020            5  \n",
       "2      4  2022            3  \n",
       "4      6  2021            5  \n",
       "5      8  2017            5  "
      ]
     },
     "execution_count": 16,
     "metadata": {},
     "output_type": "execute_result"
    }
   ],
   "source": [
    "# 3. сохраним ID этих пользователей\n",
    "repeat = df['id'].value_counts().head(1039).index.tolist()\n",
    "# 4. сохраним всю информацию о платежах от этих пользователей в датасет\n",
    "df1 = df[df['id'].isin(repeat)]\n",
    "\n",
    "df1.head()"
   ]
  },
  {
   "cell_type": "markdown",
   "metadata": {},
   "source": [
    "## Исследуем и категоризируем данные о постоянных жертвователях"
   ]
  },
  {
   "cell_type": "code",
   "execution_count": 17,
   "metadata": {},
   "outputs": [
    {
     "data": {
      "text/plain": [
       "11387"
      ]
     },
     "execution_count": 17,
     "metadata": {},
     "output_type": "execute_result"
    }
   ],
   "source": [
    "# количество пожертвований от постоянных жертвователей\n",
    "df1['id'].count()"
   ]
  },
  {
   "cell_type": "code",
   "execution_count": 18,
   "metadata": {},
   "outputs": [
    {
     "data": {
      "text/plain": [
       "10.959576515880654"
      ]
     },
     "execution_count": 18,
     "metadata": {},
     "output_type": "execute_result"
    }
   ],
   "source": [
    "# среднее количество пожертвований от постоянных жертвователей за все время\n",
    "df1['id'].count()/len(df1['id'].unique())"
   ]
  },
  {
   "cell_type": "code",
   "execution_count": 19,
   "metadata": {},
   "outputs": [
    {
     "data": {
      "text/plain": [
       "0.7083516290506718"
      ]
     },
     "execution_count": 19,
     "metadata": {},
     "output_type": "execute_result"
    }
   ],
   "source": [
    "# доля рекуррентных платежей\n",
    "(df1[df1['is_reccurent'] == 1]['id'].count()/len(df1['id']))"
   ]
  },
  {
   "cell_type": "markdown",
   "metadata": {},
   "source": [
    "###  Каналы платежей"
   ]
  },
  {
   "cell_type": "code",
   "execution_count": 20,
   "metadata": {},
   "outputs": [
    {
     "data": {
      "image/png": "[encoded data removed]",
      "text/plain": [
       "<Figure size 1080x360 with 1 Axes>"
      ]
     },
     "metadata": {
      "needs_background": "light"
     },
     "output_type": "display_data"
    }
   ],
   "source": [
    "# доля платежей из разных каналов для повторных пожертвований\n",
    "(df1['channel'].value_counts()/len(df1['id'])).plot(\n",
    "    title='Каналы платежей для пользователей, совершивших более 1 операции',\n",
    "    kind='bar', \n",
    "    figsize=(15,5),\n",
    "    color='peru'\n",
    ");"
   ]
  },
  {
   "cell_type": "code",
   "execution_count": 21,
   "metadata": {},
   "outputs": [
    {
     "data": {
      "text/html": [
       "<div>\n",
       "<style scoped>\n",
       "    .dataframe tbody tr th:only-of-type {\n",
       "        vertical-align: middle;\n",
       "    }\n",
       "\n",
       "    .dataframe tbody tr th {\n",
       "        vertical-align: top;\n",
       "    }\n",
       "\n",
       "    .dataframe thead th {\n",
       "        text-align: right;\n",
       "    }\n",
       "</style>\n",
       "<table border=\"1\" class=\"dataframe\">\n",
       "  <thead>\n",
       "    <tr style=\"text-align: right;\">\n",
       "      <th></th>\n",
       "      <th>channel</th>\n",
       "    </tr>\n",
       "  </thead>\n",
       "  <tbody>\n",
       "    <tr>\n",
       "      <th>Банковские карты</th>\n",
       "      <td>0.881532</td>\n",
       "    </tr>\n",
       "    <tr>\n",
       "      <th>Прямые поступления на счет</th>\n",
       "      <td>0.082023</td>\n",
       "    </tr>\n",
       "    <tr>\n",
       "      <th>SMS</th>\n",
       "      <td>0.036182</td>\n",
       "    </tr>\n",
       "    <tr>\n",
       "      <th>Наличные в кассу</th>\n",
       "      <td>0.000263</td>\n",
       "    </tr>\n",
       "  </tbody>\n",
       "</table>\n",
       "</div>"
      ],
      "text/plain": [
       "                               channel\n",
       "Банковские карты              0.881532\n",
       "Прямые поступления на счет    0.082023\n",
       "SMS                           0.036182\n",
       "Наличные в кассу              0.000263"
      ]
     },
     "execution_count": 21,
     "metadata": {},
     "output_type": "execute_result"
    }
   ],
   "source": [
    "(df1['channel'].value_counts()/len(df1['id'])).to_frame()"
   ]
  },
  {
   "cell_type": "markdown",
   "metadata": {},
   "source": [
    "###  Города постоянных жертвователей"
   ]
  },
  {
   "cell_type": "code",
   "execution_count": 22,
   "metadata": {},
   "outputs": [
    {
     "data": {
      "text/plain": [
       "120"
      ]
     },
     "execution_count": 22,
     "metadata": {},
     "output_type": "execute_result"
    }
   ],
   "source": [
    "# количество городов в датасете\n",
    "len(df1['city'].unique())"
   ]
  },
  {
   "cell_type": "code",
   "execution_count": 23,
   "metadata": {},
   "outputs": [
    {
     "data": {
      "text/plain": [
       "0                    0.452270\n",
       "Москва               0.303065\n",
       "Санкт-Петербург      0.039782\n",
       "Краснодар            0.018530\n",
       "Якутск               0.011329\n",
       "Мытищи               0.008167\n",
       "Екатеринбург         0.007728\n",
       "Самара               0.007640\n",
       "Frankfurt am Main    0.007289\n",
       "Изобильный           0.006674\n",
       "Сочи                 0.006586\n",
       "Ростов-на-Дону       0.006586\n",
       "Одинцово             0.006147\n",
       "Нижний Новгород      0.005884\n",
       "Брянск               0.004742\n",
       "Воронеж              0.004391\n",
       "Charleston           0.004303\n",
       "Казань               0.004128\n",
       "Владивосток          0.003513\n",
       "Ставрополь           0.003425\n",
       "Name: city, dtype: float64"
      ]
     },
     "execution_count": 23,
     "metadata": {},
     "output_type": "execute_result"
    }
   ],
   "source": [
    "# топ городов по количеству постоянных жертвователей\n",
    "\n",
    "(df1['city'].value_counts()/len(df1['id'])).head(20)"
   ]
  },
  {
   "cell_type": "code",
   "execution_count": 24,
   "metadata": {},
   "outputs": [
    {
     "data": {
      "image/png": "[encoded data removed]",
      "text/plain": [
       "<Figure size 1080x360 with 1 Axes>"
      ]
     },
     "metadata": {
      "needs_background": "light"
     },
     "output_type": "display_data"
    }
   ],
   "source": [
    "(df1['city'].value_counts()/len(df1['id'])).head(20).plot(\n",
    "    title='Города постоянных жетвователей',\n",
    "    kind='bar', \n",
    "    figsize=(15,5),\n",
    "    color='gray'\n",
    ");"
   ]
  },
  {
   "cell_type": "code",
   "execution_count": 25,
   "metadata": {},
   "outputs": [
    {
     "data": {
      "text/html": [
       "<div>\n",
       "<style scoped>\n",
       "    .dataframe tbody tr th:only-of-type {\n",
       "        vertical-align: middle;\n",
       "    }\n",
       "\n",
       "    .dataframe tbody tr th {\n",
       "        vertical-align: top;\n",
       "    }\n",
       "\n",
       "    .dataframe thead th {\n",
       "        text-align: right;\n",
       "    }\n",
       "</style>\n",
       "<table border=\"1\" class=\"dataframe\">\n",
       "  <thead>\n",
       "    <tr style=\"text-align: right;\">\n",
       "      <th></th>\n",
       "      <th>id</th>\n",
       "      <th>date</th>\n",
       "      <th>amount</th>\n",
       "      <th>is_reccurent</th>\n",
       "      <th>purpose</th>\n",
       "      <th>channel</th>\n",
       "      <th>gender</th>\n",
       "      <th>last_email_activity</th>\n",
       "      <th>day</th>\n",
       "      <th>month</th>\n",
       "      <th>year</th>\n",
       "      <th>day_of_week</th>\n",
       "      <th>city_category</th>\n",
       "    </tr>\n",
       "  </thead>\n",
       "  <tbody>\n",
       "    <tr>\n",
       "      <th>0</th>\n",
       "      <td>DE5393F9-9585-4057-B7FB-24B69697FC08</td>\n",
       "      <td>2022-07-03 19:49:48</td>\n",
       "      <td>300.0</td>\n",
       "      <td>1</td>\n",
       "      <td>пожертвование  undefined</td>\n",
       "      <td>Банковские карты</td>\n",
       "      <td>Женский</td>\n",
       "      <td>2022-06-03 20:15:57</td>\n",
       "      <td>3</td>\n",
       "      <td>7</td>\n",
       "      <td>2022</td>\n",
       "      <td>6</td>\n",
       "      <td>Москва</td>\n",
       "    </tr>\n",
       "    <tr>\n",
       "      <th>1</th>\n",
       "      <td>81CD4BEF-443E-4D36-B34F-664E11182D65</td>\n",
       "      <td>2020-03-14 12:20:02</td>\n",
       "      <td>300.0</td>\n",
       "      <td>0</td>\n",
       "      <td>sms bdd</td>\n",
       "      <td>SMS</td>\n",
       "      <td>Женский</td>\n",
       "      <td>2022-07-18 17:19:02</td>\n",
       "      <td>14</td>\n",
       "      <td>3</td>\n",
       "      <td>2020</td>\n",
       "      <td>5</td>\n",
       "      <td>Москва</td>\n",
       "    </tr>\n",
       "    <tr>\n",
       "      <th>2</th>\n",
       "      <td>D3BEB76D-D8B6-47E2-8109-44F1B278943B</td>\n",
       "      <td>2022-04-07 00:00:00</td>\n",
       "      <td>16.0</td>\n",
       "      <td>0</td>\n",
       "      <td>добровольное пожертвование. ндс не облагается</td>\n",
       "      <td>Прямые поступления на счет</td>\n",
       "      <td>Мужской</td>\n",
       "      <td>0</td>\n",
       "      <td>7</td>\n",
       "      <td>4</td>\n",
       "      <td>2022</td>\n",
       "      <td>3</td>\n",
       "      <td>Город неизвестен</td>\n",
       "    </tr>\n",
       "    <tr>\n",
       "      <th>4</th>\n",
       "      <td>61C3D86B-39DA-445C-9D7F-9924CE9BDA14</td>\n",
       "      <td>2021-06-26 01:26:07</td>\n",
       "      <td>200.0</td>\n",
       "      <td>1</td>\n",
       "      <td>пожертвование  undefined</td>\n",
       "      <td>Банковские карты</td>\n",
       "      <td>Женский</td>\n",
       "      <td>2022-07-20 20:32:37</td>\n",
       "      <td>26</td>\n",
       "      <td>6</td>\n",
       "      <td>2021</td>\n",
       "      <td>5</td>\n",
       "      <td>Город неизвестен</td>\n",
       "    </tr>\n",
       "    <tr>\n",
       "      <th>5</th>\n",
       "      <td>6FDEE73B-0270-4AFA-BA21-579E5B970D6A</td>\n",
       "      <td>2017-08-26 18:16:27</td>\n",
       "      <td>100.0</td>\n",
       "      <td>1</td>\n",
       "      <td>пожертвование в фонд помощи детям-отказникам и...</td>\n",
       "      <td>Банковские карты</td>\n",
       "      <td>Женский</td>\n",
       "      <td>2022-07-18 16:29:38</td>\n",
       "      <td>26</td>\n",
       "      <td>8</td>\n",
       "      <td>2017</td>\n",
       "      <td>5</td>\n",
       "      <td>Город неизвестен</td>\n",
       "    </tr>\n",
       "  </tbody>\n",
       "</table>\n",
       "</div>"
      ],
      "text/plain": [
       "                                     id                date  amount  \\\n",
       "0  DE5393F9-9585-4057-B7FB-24B69697FC08 2022-07-03 19:49:48   300.0   \n",
       "1  81CD4BEF-443E-4D36-B34F-664E11182D65 2020-03-14 12:20:02   300.0   \n",
       "2  D3BEB76D-D8B6-47E2-8109-44F1B278943B 2022-04-07 00:00:00    16.0   \n",
       "4  61C3D86B-39DA-445C-9D7F-9924CE9BDA14 2021-06-26 01:26:07   200.0   \n",
       "5  6FDEE73B-0270-4AFA-BA21-579E5B970D6A 2017-08-26 18:16:27   100.0   \n",
       "\n",
       "   is_reccurent                                            purpose  \\\n",
       "0             1                           пожертвование  undefined   \n",
       "1             0                                            sms bdd   \n",
       "2             0      добровольное пожертвование. ндс не облагается   \n",
       "4             1                           пожертвование  undefined   \n",
       "5             1  пожертвование в фонд помощи детям-отказникам и...   \n",
       "\n",
       "                        channel   gender  last_email_activity  day  month  \\\n",
       "0            Банковские карты    Женский  2022-06-03 20:15:57    3      7   \n",
       "1                         SMS    Женский  2022-07-18 17:19:02   14      3   \n",
       "2  Прямые поступления на счет    Мужской                    0    7      4   \n",
       "4            Банковские карты    Женский  2022-07-20 20:32:37   26      6   \n",
       "5            Банковские карты    Женский  2022-07-18 16:29:38   26      8   \n",
       "\n",
       "   year  day_of_week     city_category  \n",
       "0  2022            6            Москва  \n",
       "1  2020            5            Москва  \n",
       "2  2022            3  Город неизвестен  \n",
       "4  2021            5  Город неизвестен  \n",
       "5  2017            5  Город неизвестен  "
      ]
     },
     "execution_count": 25,
     "metadata": {},
     "output_type": "execute_result"
    }
   ],
   "source": [
    "# Напишем функцию для категоризации городов\n",
    "\n",
    "def city_category(city):\n",
    "    foreign_cities = ['Frankfurt am Main', 'Charleston', 'Helsinki', 'Juba', 'Copenhagen', 'Holon', \n",
    "                     'Hyderabad', 'Alameda', 'Jakarta', 'Keighley', 'Southall', 'Denver']\n",
    "    \n",
    "    if city.loc['city'] == 'Москва':\n",
    "        return 'Москва'\n",
    "    elif city.loc['city'] == 'Санкт-Петербург':\n",
    "        return 'Санкт-Петербург'\n",
    "    elif city.loc['city'] in foreign_cities:\n",
    "        return 'Зарубежные страны'\n",
    "    elif city.loc['city'] == '0':\n",
    "        return 'Город неизвестен'\n",
    "    else:\n",
    "        return 'Другие города России'\n",
    "\n",
    "df1['city'] = df1['city'].fillna(0)\n",
    "# применим функцию\n",
    "df1['city_category'] = df1.apply(city_category, axis=1)\n",
    "# удалим столбец 'city'\n",
    "df1 = df1.drop('city',axis=1)\n",
    "\n",
    "df1.head()"
   ]
  },
  {
   "cell_type": "code",
   "execution_count": 26,
   "metadata": {},
   "outputs": [
    {
     "data": {
      "image/png": "[encoded data removed]",
      "text/plain": [
       "<Figure size 1080x360 with 1 Axes>"
      ]
     },
     "metadata": {
      "needs_background": "light"
     },
     "output_type": "display_data"
    }
   ],
   "source": [
    "(df1['city_category'].value_counts()/len(df1['id'])).head(20).plot(\n",
    "    title='Города постоянных жетвователей',\n",
    "    kind='bar', \n",
    "    figsize=(15,5),\n",
    "    color='darkcyan'\n",
    ");"
   ]
  },
  {
   "cell_type": "markdown",
   "metadata": {},
   "source": [
    "### Назначения пожертвований"
   ]
  },
  {
   "cell_type": "code",
   "execution_count": 27,
   "metadata": {},
   "outputs": [
    {
     "data": {
      "text/plain": [
       "880"
      ]
     },
     "execution_count": 27,
     "metadata": {},
     "output_type": "execute_result"
    }
   ],
   "source": [
    "# назначение пожертвования\n",
    "# количество уникальных назначений\n",
    "len(df['purpose'].unique())"
   ]
  },
  {
   "cell_type": "code",
   "execution_count": 28,
   "metadata": {},
   "outputs": [
    {
     "data": {
      "text/plain": [
       "<AxesSubplot:>"
      ]
     },
     "execution_count": 28,
     "metadata": {},
     "output_type": "execute_result"
    },
    {
     "data": {
      "image/png": "[encoded data removed]",
      "text/plain": [
       "<Figure size 1080x360 with 1 Axes>"
      ]
     },
     "metadata": {
      "needs_background": "light"
     },
     "output_type": "display_data"
    }
   ],
   "source": [
    "# доли назначений платежей\n",
    "(df1['purpose'].value_counts()/len(df1['id'])).head(21).plot(kind='bar',figsize=(15,5), color='gray')"
   ]
  },
  {
   "cell_type": "code",
   "execution_count": 29,
   "metadata": {},
   "outputs": [
    {
     "data": {
      "text/html": [
       "<div>\n",
       "<style scoped>\n",
       "    .dataframe tbody tr th:only-of-type {\n",
       "        vertical-align: middle;\n",
       "    }\n",
       "\n",
       "    .dataframe tbody tr th {\n",
       "        vertical-align: top;\n",
       "    }\n",
       "\n",
       "    .dataframe thead th {\n",
       "        text-align: right;\n",
       "    }\n",
       "</style>\n",
       "<table border=\"1\" class=\"dataframe\">\n",
       "  <thead>\n",
       "    <tr style=\"text-align: right;\">\n",
       "      <th></th>\n",
       "      <th>purpose</th>\n",
       "    </tr>\n",
       "  </thead>\n",
       "  <tbody>\n",
       "    <tr>\n",
       "      <th>пожертвование</th>\n",
       "      <td>0.298235</td>\n",
       "    </tr>\n",
       "    <tr>\n",
       "      <th>пожертвование в фонд помощи детям-отказникам и детям-сиротам \"бюро добрых дел\"</th>\n",
       "      <td>0.265742</td>\n",
       "    </tr>\n",
       "    <tr>\n",
       "      <th>пожертвование  undefined</th>\n",
       "      <td>0.189514</td>\n",
       "    </tr>\n",
       "    <tr>\n",
       "      <th>добровольное пожертвование. ндс не облагается</th>\n",
       "      <td>0.027400</td>\n",
       "    </tr>\n",
       "    <tr>\n",
       "      <th>0</th>\n",
       "      <td>0.026961</td>\n",
       "    </tr>\n",
       "    <tr>\n",
       "      <th>sms bdd</th>\n",
       "      <td>0.012295</td>\n",
       "    </tr>\n",
       "    <tr>\n",
       "      <th>пожертвование клуб друзей</th>\n",
       "      <td>0.011153</td>\n",
       "    </tr>\n",
       "    <tr>\n",
       "      <th>на психологические консультации артёму</th>\n",
       "      <td>0.006499</td>\n",
       "    </tr>\n",
       "    <tr>\n",
       "      <th>пожертвование без назначения</th>\n",
       "      <td>0.005796</td>\n",
       "    </tr>\n",
       "    <tr>\n",
       "      <th>на работу фонда</th>\n",
       "      <td>0.003161</td>\n",
       "    </tr>\n",
       "    <tr>\n",
       "      <th>на обучение дмитрия</th>\n",
       "      <td>0.002810</td>\n",
       "    </tr>\n",
       "    <tr>\n",
       "      <th>на ресурсный центр</th>\n",
       "      <td>0.002635</td>\n",
       "    </tr>\n",
       "    <tr>\n",
       "      <th>на обучение саши в мастерской</th>\n",
       "      <td>0.002635</td>\n",
       "    </tr>\n",
       "    <tr>\n",
       "      <th>добровольное пожертвование</th>\n",
       "      <td>0.002547</td>\n",
       "    </tr>\n",
       "    <tr>\n",
       "      <th>на тьютора ренате</th>\n",
       "      <td>0.002547</td>\n",
       "    </tr>\n",
       "    <tr>\n",
       "      <th>на обучение наташи</th>\n",
       "      <td>0.002283</td>\n",
       "    </tr>\n",
       "    <tr>\n",
       "      <th>пожертвование на обучение александры</th>\n",
       "      <td>0.002195</td>\n",
       "    </tr>\n",
       "    <tr>\n",
       "      <th>на обучение фёдора</th>\n",
       "      <td>0.002195</td>\n",
       "    </tr>\n",
       "    <tr>\n",
       "      <th>на психологическую помощь лизе</th>\n",
       "      <td>0.002108</td>\n",
       "    </tr>\n",
       "    <tr>\n",
       "      <th>на обучение даниила</th>\n",
       "      <td>0.002108</td>\n",
       "    </tr>\n",
       "    <tr>\n",
       "      <th>пожертвование на обучение артёма</th>\n",
       "      <td>0.002108</td>\n",
       "    </tr>\n",
       "  </tbody>\n",
       "</table>\n",
       "</div>"
      ],
      "text/plain": [
       "                                                     purpose\n",
       "пожертвование                                       0.298235\n",
       "пожертвование в фонд помощи детям-отказникам и ...  0.265742\n",
       "пожертвование  undefined                            0.189514\n",
       "добровольное пожертвование. ндс не облагается       0.027400\n",
       "0                                                   0.026961\n",
       "sms bdd                                             0.012295\n",
       "пожертвование клуб друзей                           0.011153\n",
       "на психологические консультации артёму              0.006499\n",
       "пожертвование без назначения                        0.005796\n",
       "на работу фонда                                     0.003161\n",
       "на обучение дмитрия                                 0.002810\n",
       "на ресурсный центр                                  0.002635\n",
       "на обучение саши в мастерской                       0.002635\n",
       "добровольное пожертвование                          0.002547\n",
       "на тьютора ренате                                   0.002547\n",
       "на обучение наташи                                  0.002283\n",
       "пожертвование на обучение александры                0.002195\n",
       "на обучение фёдора                                  0.002195\n",
       "на психологическую помощь лизе                      0.002108\n",
       "на обучение даниила                                 0.002108\n",
       "пожертвование на обучение артёма                    0.002108"
      ]
     },
     "execution_count": 29,
     "metadata": {},
     "output_type": "execute_result"
    }
   ],
   "source": [
    "# доля назначений пожертвований\n",
    "((df1['purpose'].value_counts()/len(df1['id'])).head(21)).to_frame()"
   ]
  },
  {
   "cell_type": "code",
   "execution_count": 30,
   "metadata": {},
   "outputs": [],
   "source": [
    "# изменим тип данных в столбце 'purpose' на object\n",
    "df1['purpose'] = df1['purpose'].astype('object')"
   ]
  },
  {
   "cell_type": "code",
   "execution_count": 31,
   "metadata": {},
   "outputs": [
    {
     "data": {
      "text/html": [
       "<div>\n",
       "<style scoped>\n",
       "    .dataframe tbody tr th:only-of-type {\n",
       "        vertical-align: middle;\n",
       "    }\n",
       "\n",
       "    .dataframe tbody tr th {\n",
       "        vertical-align: top;\n",
       "    }\n",
       "\n",
       "    .dataframe thead th {\n",
       "        text-align: right;\n",
       "    }\n",
       "</style>\n",
       "<table border=\"1\" class=\"dataframe\">\n",
       "  <thead>\n",
       "    <tr style=\"text-align: right;\">\n",
       "      <th></th>\n",
       "      <th>id</th>\n",
       "      <th>date</th>\n",
       "      <th>amount</th>\n",
       "      <th>is_reccurent</th>\n",
       "      <th>channel</th>\n",
       "      <th>gender</th>\n",
       "      <th>last_email_activity</th>\n",
       "      <th>day</th>\n",
       "      <th>month</th>\n",
       "      <th>year</th>\n",
       "      <th>day_of_week</th>\n",
       "      <th>city_category</th>\n",
       "      <th>purpose_category</th>\n",
       "    </tr>\n",
       "  </thead>\n",
       "  <tbody>\n",
       "    <tr>\n",
       "      <th>0</th>\n",
       "      <td>DE5393F9-9585-4057-B7FB-24B69697FC08</td>\n",
       "      <td>2022-07-03 19:49:48</td>\n",
       "      <td>300.0</td>\n",
       "      <td>1</td>\n",
       "      <td>Банковские карты</td>\n",
       "      <td>Женский</td>\n",
       "      <td>2022-06-03 20:15:57</td>\n",
       "      <td>3</td>\n",
       "      <td>7</td>\n",
       "      <td>2022</td>\n",
       "      <td>6</td>\n",
       "      <td>Москва</td>\n",
       "      <td>пожертвование</td>\n",
       "    </tr>\n",
       "    <tr>\n",
       "      <th>1</th>\n",
       "      <td>81CD4BEF-443E-4D36-B34F-664E11182D65</td>\n",
       "      <td>2020-03-14 12:20:02</td>\n",
       "      <td>300.0</td>\n",
       "      <td>0</td>\n",
       "      <td>SMS</td>\n",
       "      <td>Женский</td>\n",
       "      <td>2022-07-18 17:19:02</td>\n",
       "      <td>14</td>\n",
       "      <td>3</td>\n",
       "      <td>2020</td>\n",
       "      <td>5</td>\n",
       "      <td>Москва</td>\n",
       "      <td>sms</td>\n",
       "    </tr>\n",
       "    <tr>\n",
       "      <th>2</th>\n",
       "      <td>D3BEB76D-D8B6-47E2-8109-44F1B278943B</td>\n",
       "      <td>2022-04-07 00:00:00</td>\n",
       "      <td>16.0</td>\n",
       "      <td>0</td>\n",
       "      <td>Прямые поступления на счет</td>\n",
       "      <td>Мужской</td>\n",
       "      <td>0</td>\n",
       "      <td>7</td>\n",
       "      <td>4</td>\n",
       "      <td>2022</td>\n",
       "      <td>3</td>\n",
       "      <td>Город неизвестен</td>\n",
       "      <td>пожертвование</td>\n",
       "    </tr>\n",
       "    <tr>\n",
       "      <th>4</th>\n",
       "      <td>61C3D86B-39DA-445C-9D7F-9924CE9BDA14</td>\n",
       "      <td>2021-06-26 01:26:07</td>\n",
       "      <td>200.0</td>\n",
       "      <td>1</td>\n",
       "      <td>Банковские карты</td>\n",
       "      <td>Женский</td>\n",
       "      <td>2022-07-20 20:32:37</td>\n",
       "      <td>26</td>\n",
       "      <td>6</td>\n",
       "      <td>2021</td>\n",
       "      <td>5</td>\n",
       "      <td>Город неизвестен</td>\n",
       "      <td>пожертвование</td>\n",
       "    </tr>\n",
       "    <tr>\n",
       "      <th>5</th>\n",
       "      <td>6FDEE73B-0270-4AFA-BA21-579E5B970D6A</td>\n",
       "      <td>2017-08-26 18:16:27</td>\n",
       "      <td>100.0</td>\n",
       "      <td>1</td>\n",
       "      <td>Банковские карты</td>\n",
       "      <td>Женский</td>\n",
       "      <td>2022-07-18 16:29:38</td>\n",
       "      <td>26</td>\n",
       "      <td>8</td>\n",
       "      <td>2017</td>\n",
       "      <td>5</td>\n",
       "      <td>Город неизвестен</td>\n",
       "      <td>пожертвование</td>\n",
       "    </tr>\n",
       "  </tbody>\n",
       "</table>\n",
       "</div>"
      ],
      "text/plain": [
       "                                     id                date  amount  \\\n",
       "0  DE5393F9-9585-4057-B7FB-24B69697FC08 2022-07-03 19:49:48   300.0   \n",
       "1  81CD4BEF-443E-4D36-B34F-664E11182D65 2020-03-14 12:20:02   300.0   \n",
       "2  D3BEB76D-D8B6-47E2-8109-44F1B278943B 2022-04-07 00:00:00    16.0   \n",
       "4  61C3D86B-39DA-445C-9D7F-9924CE9BDA14 2021-06-26 01:26:07   200.0   \n",
       "5  6FDEE73B-0270-4AFA-BA21-579E5B970D6A 2017-08-26 18:16:27   100.0   \n",
       "\n",
       "   is_reccurent                       channel   gender  last_email_activity  \\\n",
       "0             1            Банковские карты    Женский  2022-06-03 20:15:57   \n",
       "1             0                         SMS    Женский  2022-07-18 17:19:02   \n",
       "2             0  Прямые поступления на счет    Мужской                    0   \n",
       "4             1            Банковские карты    Женский  2022-07-20 20:32:37   \n",
       "5             1            Банковские карты    Женский  2022-07-18 16:29:38   \n",
       "\n",
       "   day  month  year  day_of_week     city_category purpose_category  \n",
       "0    3      7  2022            6            Москва    пожертвование  \n",
       "1   14      3  2020            5            Москва              sms  \n",
       "2    7      4  2022            3  Город неизвестен    пожертвование  \n",
       "4   26      6  2021            5  Город неизвестен    пожертвование  \n",
       "5   26      8  2017            5  Город неизвестен    пожертвование  "
      ]
     },
     "execution_count": 31,
     "metadata": {},
     "output_type": "execute_result"
    }
   ],
   "source": [
    "# Напишем функцию для категоризации назначений платежей\n",
    "\n",
    "def purose_category(purpose):\n",
    "    \n",
    "    if ('окно в мир' or 'история успеха' or 'на обучение' or 'на тьютора' or 'на психологическую помощь') in purpose.loc['purpose']:\n",
    "        return 'именное пожертвование'\n",
    "    elif 'sms' in purpose.loc['purpose']:\n",
    "        return 'sms'\n",
    "    elif 'клуб друзей' in purpose.loc['purpose']:\n",
    "        return 'пожертвование'\n",
    "    elif '0' in purpose.loc['purpose']:\n",
    "        return 'назнчение не указано'\n",
    "    else:\n",
    "        return 'пожертвование'\n",
    "\n",
    "# применим функцию\n",
    "df1['purpose_category'] = df1.apply(purose_category, axis=1)\n",
    "# удалим столбец 'purpose'\n",
    "df1 = df1.drop('purpose',axis=1)\n",
    "\n",
    "df1.head()"
   ]
  },
  {
   "cell_type": "code",
   "execution_count": 32,
   "metadata": {},
   "outputs": [
    {
     "data": {
      "text/plain": [
       "<AxesSubplot:title={'center':'Назначения платежей для постоянных жертвователей'}>"
      ]
     },
     "execution_count": 32,
     "metadata": {},
     "output_type": "execute_result"
    },
    {
     "data": {
      "image/png": "[encoded data removed]",
      "text/plain": [
       "<Figure size 1080x360 with 1 Axes>"
      ]
     },
     "metadata": {
      "needs_background": "light"
     },
     "output_type": "display_data"
    }
   ],
   "source": [
    "# Назначения платежей\n",
    "(df1['purpose_category'].value_counts()/len(df1['id'])).head(21).plot(title='Назначения платежей для постоянных жертвователей', kind='bar',figsize=(15,5), color='darkslateblue')"
   ]
  },
  {
   "cell_type": "code",
   "execution_count": 33,
   "metadata": {},
   "outputs": [
    {
     "data": {
      "text/html": [
       "<div>\n",
       "<style scoped>\n",
       "    .dataframe tbody tr th:only-of-type {\n",
       "        vertical-align: middle;\n",
       "    }\n",
       "\n",
       "    .dataframe tbody tr th {\n",
       "        vertical-align: top;\n",
       "    }\n",
       "\n",
       "    .dataframe thead th {\n",
       "        text-align: right;\n",
       "    }\n",
       "</style>\n",
       "<table border=\"1\" class=\"dataframe\">\n",
       "  <thead>\n",
       "    <tr style=\"text-align: right;\">\n",
       "      <th></th>\n",
       "      <th>purpose_category</th>\n",
       "    </tr>\n",
       "  </thead>\n",
       "  <tbody>\n",
       "    <tr>\n",
       "      <th>пожертвование</th>\n",
       "      <td>0.909809</td>\n",
       "    </tr>\n",
       "    <tr>\n",
       "      <th>назнчение не указано</th>\n",
       "      <td>0.074647</td>\n",
       "    </tr>\n",
       "    <tr>\n",
       "      <th>sms</th>\n",
       "      <td>0.012295</td>\n",
       "    </tr>\n",
       "    <tr>\n",
       "      <th>именное пожертвование</th>\n",
       "      <td>0.003249</td>\n",
       "    </tr>\n",
       "  </tbody>\n",
       "</table>\n",
       "</div>"
      ],
      "text/plain": [
       "                       purpose_category\n",
       "пожертвование                  0.909809\n",
       "назнчение не указано           0.074647\n",
       "sms                            0.012295\n",
       "именное пожертвование          0.003249"
      ]
     },
     "execution_count": 33,
     "metadata": {},
     "output_type": "execute_result"
    }
   ],
   "source": [
    "(df1['purpose_category'].value_counts()/len(df1['id'])).to_frame()"
   ]
  },
  {
   "cell_type": "markdown",
   "metadata": {},
   "source": [
    "**Вывод:**  Более 90% составляют пожертвования на общие цели.<br>\n",
    "Именные пожертвования составляют околок 0,3%."
   ]
  },
  {
   "cell_type": "markdown",
   "metadata": {},
   "source": [
    "**Размеры пожертвований**"
   ]
  },
  {
   "cell_type": "code",
   "execution_count": 34,
   "metadata": {},
   "outputs": [
    {
     "data": {
      "text/plain": [
       "<AxesSubplot:>"
      ]
     },
     "execution_count": 34,
     "metadata": {},
     "output_type": "execute_result"
    },
    {
     "data": {
      "image/png": "[encoded data removed]",
      "text/plain": [
       "<Figure size 432x288 with 1 Axes>"
      ]
     },
     "metadata": {
      "needs_background": "light"
     },
     "output_type": "display_data"
    }
   ],
   "source": [
    "df1.boxplot('amount')"
   ]
  },
  {
   "cell_type": "code",
   "execution_count": 35,
   "metadata": {},
   "outputs": [
    {
     "data": {
      "text/html": [
       "<div>\n",
       "<style scoped>\n",
       "    .dataframe tbody tr th:only-of-type {\n",
       "        vertical-align: middle;\n",
       "    }\n",
       "\n",
       "    .dataframe tbody tr th {\n",
       "        vertical-align: top;\n",
       "    }\n",
       "\n",
       "    .dataframe thead th {\n",
       "        text-align: right;\n",
       "    }\n",
       "</style>\n",
       "<table border=\"1\" class=\"dataframe\">\n",
       "  <thead>\n",
       "    <tr style=\"text-align: right;\">\n",
       "      <th></th>\n",
       "      <th>amount</th>\n",
       "    </tr>\n",
       "  </thead>\n",
       "  <tbody>\n",
       "    <tr>\n",
       "      <th>count</th>\n",
       "      <td>11387.000000</td>\n",
       "    </tr>\n",
       "    <tr>\n",
       "      <th>mean</th>\n",
       "      <td>1322.645681</td>\n",
       "    </tr>\n",
       "    <tr>\n",
       "      <th>std</th>\n",
       "      <td>12322.238442</td>\n",
       "    </tr>\n",
       "    <tr>\n",
       "      <th>min</th>\n",
       "      <td>0.160000</td>\n",
       "    </tr>\n",
       "    <tr>\n",
       "      <th>25%</th>\n",
       "      <td>200.000000</td>\n",
       "    </tr>\n",
       "    <tr>\n",
       "      <th>50%</th>\n",
       "      <td>500.000000</td>\n",
       "    </tr>\n",
       "    <tr>\n",
       "      <th>75%</th>\n",
       "      <td>1000.000000</td>\n",
       "    </tr>\n",
       "    <tr>\n",
       "      <th>max</th>\n",
       "      <td>700000.000000</td>\n",
       "    </tr>\n",
       "  </tbody>\n",
       "</table>\n",
       "</div>"
      ],
      "text/plain": [
       "              amount\n",
       "count   11387.000000\n",
       "mean     1322.645681\n",
       "std     12322.238442\n",
       "min         0.160000\n",
       "25%       200.000000\n",
       "50%       500.000000\n",
       "75%      1000.000000\n",
       "max    700000.000000"
      ]
     },
     "execution_count": 35,
     "metadata": {},
     "output_type": "execute_result"
    }
   ],
   "source": [
    "df1['amount'].describe().to_frame()"
   ]
  },
  {
   "cell_type": "code",
   "execution_count": 36,
   "metadata": {},
   "outputs": [
    {
     "data": {
      "image/png": "[encoded data removed]",
      "text/plain": [
       "<Figure size 1080x360 with 1 Axes>"
      ]
     },
     "metadata": {
      "needs_background": "light"
     },
     "output_type": "display_data"
    }
   ],
   "source": [
    "# размеры пожертвований\n",
    "df1['amount'].value_counts().head(30).plot(title='Зависимость размера пожертвования от количества', kind='bar',figsize=(15,5));"
   ]
  },
  {
   "cell_type": "markdown",
   "metadata": {},
   "source": [
    "**Вывод:**  Чаще всего жертвуют 500, 100, 1000, 300 или 200 руб."
   ]
  },
  {
   "cell_type": "code",
   "execution_count": 37,
   "metadata": {},
   "outputs": [
    {
     "name": "stdout",
     "output_type": "stream",
     "text": [
      "Доля удаленных значений:  0.004742249934135418\n"
     ]
    }
   ],
   "source": [
    "# удалим пожертвования, сумма которых менее 10 рублей\n",
    "print('Доля удаленных значений: ', df1[df1['amount']<10]['id'].count()/len(df1['id']))\n",
    "df1 = df1[df1['amount']>=10]"
   ]
  },
  {
   "cell_type": "code",
   "execution_count": 38,
   "metadata": {},
   "outputs": [
    {
     "name": "stdout",
     "output_type": "stream",
     "text": [
      "57\n"
     ]
    },
    {
     "data": {
      "text/html": [
       "<div>\n",
       "<style scoped>\n",
       "    .dataframe tbody tr th:only-of-type {\n",
       "        vertical-align: middle;\n",
       "    }\n",
       "\n",
       "    .dataframe tbody tr th {\n",
       "        vertical-align: top;\n",
       "    }\n",
       "\n",
       "    .dataframe thead th {\n",
       "        text-align: right;\n",
       "    }\n",
       "</style>\n",
       "<table border=\"1\" class=\"dataframe\">\n",
       "  <thead>\n",
       "    <tr style=\"text-align: right;\">\n",
       "      <th></th>\n",
       "      <th>id</th>\n",
       "      <th>date</th>\n",
       "      <th>amount</th>\n",
       "      <th>is_reccurent</th>\n",
       "      <th>channel</th>\n",
       "      <th>gender</th>\n",
       "      <th>last_email_activity</th>\n",
       "      <th>day</th>\n",
       "      <th>month</th>\n",
       "      <th>year</th>\n",
       "      <th>day_of_week</th>\n",
       "      <th>city_category</th>\n",
       "      <th>purpose_category</th>\n",
       "    </tr>\n",
       "  </thead>\n",
       "  <tbody>\n",
       "    <tr>\n",
       "      <th>116</th>\n",
       "      <td>2AA1C086-BF4C-4A5B-9237-FCB7BAB3B038</td>\n",
       "      <td>2019-03-28 16:20:08</td>\n",
       "      <td>10000.0</td>\n",
       "      <td>1</td>\n",
       "      <td>Банковские карты</td>\n",
       "      <td>Женский</td>\n",
       "      <td>2022-07-20 01:16:23</td>\n",
       "      <td>28</td>\n",
       "      <td>3</td>\n",
       "      <td>2019</td>\n",
       "      <td>3</td>\n",
       "      <td>Москва</td>\n",
       "      <td>пожертвование</td>\n",
       "    </tr>\n",
       "    <tr>\n",
       "      <th>163</th>\n",
       "      <td>674584A9-FF35-463B-A607-DBB2A7B7891F</td>\n",
       "      <td>2016-11-14 08:35:09</td>\n",
       "      <td>10000.0</td>\n",
       "      <td>1</td>\n",
       "      <td>Банковские карты</td>\n",
       "      <td>Женский</td>\n",
       "      <td>2020-04-15 22:04:54</td>\n",
       "      <td>14</td>\n",
       "      <td>11</td>\n",
       "      <td>2016</td>\n",
       "      <td>0</td>\n",
       "      <td>Город неизвестен</td>\n",
       "      <td>пожертвование</td>\n",
       "    </tr>\n",
       "    <tr>\n",
       "      <th>206</th>\n",
       "      <td>2AA1C086-BF4C-4A5B-9237-FCB7BAB3B038</td>\n",
       "      <td>2019-12-28 16:19:46</td>\n",
       "      <td>10000.0</td>\n",
       "      <td>1</td>\n",
       "      <td>Банковские карты</td>\n",
       "      <td>Женский</td>\n",
       "      <td>2022-07-20 01:16:23</td>\n",
       "      <td>28</td>\n",
       "      <td>12</td>\n",
       "      <td>2019</td>\n",
       "      <td>5</td>\n",
       "      <td>Москва</td>\n",
       "      <td>пожертвование</td>\n",
       "    </tr>\n",
       "    <tr>\n",
       "      <th>289</th>\n",
       "      <td>2AA1C086-BF4C-4A5B-9237-FCB7BAB3B038</td>\n",
       "      <td>2021-11-01 16:33:55</td>\n",
       "      <td>10000.0</td>\n",
       "      <td>1</td>\n",
       "      <td>Банковские карты</td>\n",
       "      <td>Женский</td>\n",
       "      <td>2022-07-20 01:16:23</td>\n",
       "      <td>1</td>\n",
       "      <td>11</td>\n",
       "      <td>2021</td>\n",
       "      <td>0</td>\n",
       "      <td>Москва</td>\n",
       "      <td>пожертвование</td>\n",
       "    </tr>\n",
       "    <tr>\n",
       "      <th>309</th>\n",
       "      <td>2AA1C086-BF4C-4A5B-9237-FCB7BAB3B038</td>\n",
       "      <td>2019-08-28 16:19:56</td>\n",
       "      <td>10000.0</td>\n",
       "      <td>1</td>\n",
       "      <td>Банковские карты</td>\n",
       "      <td>Женский</td>\n",
       "      <td>2022-07-20 01:16:23</td>\n",
       "      <td>28</td>\n",
       "      <td>8</td>\n",
       "      <td>2019</td>\n",
       "      <td>2</td>\n",
       "      <td>Москва</td>\n",
       "      <td>пожертвование</td>\n",
       "    </tr>\n",
       "  </tbody>\n",
       "</table>\n",
       "</div>"
      ],
      "text/plain": [
       "                                       id                date   amount  \\\n",
       "116  2AA1C086-BF4C-4A5B-9237-FCB7BAB3B038 2019-03-28 16:20:08  10000.0   \n",
       "163  674584A9-FF35-463B-A607-DBB2A7B7891F 2016-11-14 08:35:09  10000.0   \n",
       "206  2AA1C086-BF4C-4A5B-9237-FCB7BAB3B038 2019-12-28 16:19:46  10000.0   \n",
       "289  2AA1C086-BF4C-4A5B-9237-FCB7BAB3B038 2021-11-01 16:33:55  10000.0   \n",
       "309  2AA1C086-BF4C-4A5B-9237-FCB7BAB3B038 2019-08-28 16:19:56  10000.0   \n",
       "\n",
       "     is_reccurent             channel   gender  last_email_activity  day  \\\n",
       "116             1  Банковские карты    Женский  2022-07-20 01:16:23   28   \n",
       "163             1  Банковские карты    Женский  2020-04-15 22:04:54   14   \n",
       "206             1  Банковские карты    Женский  2022-07-20 01:16:23   28   \n",
       "289             1  Банковские карты    Женский  2022-07-20 01:16:23    1   \n",
       "309             1  Банковские карты    Женский  2022-07-20 01:16:23   28   \n",
       "\n",
       "     month  year  day_of_week     city_category purpose_category  \n",
       "116      3  2019            3            Москва    пожертвование  \n",
       "163     11  2016            0  Город неизвестен    пожертвование  \n",
       "206     12  2019            5            Москва    пожертвование  \n",
       "289     11  2021            0            Москва    пожертвование  \n",
       "309      8  2019            2            Москва    пожертвование  "
      ]
     },
     "execution_count": 38,
     "metadata": {},
     "output_type": "execute_result"
    }
   ],
   "source": [
    "# максимальная сумма рекуррентных платежей -- 10 000 руб\n",
    "print(df1[(df1['amount']>=10000)&(df['is_reccurent']==1)]['id'].count())\n",
    "df1[(df1['amount']>=10000)&(df['is_reccurent']==1)].head()"
   ]
  },
  {
   "cell_type": "markdown",
   "metadata": {},
   "source": [
    "**Вывод:** Максимальная сумма рекуррентных платежей -- 10 000 руб.<br>\n",
    "Количество платежей за все время: 57.<br>\n",
    "Все платежи, город которых известен, совершены из Москвы."
   ]
  },
  {
   "cell_type": "code",
   "execution_count": 39,
   "metadata": {},
   "outputs": [
    {
     "name": "stdout",
     "output_type": "stream",
     "text": [
      "Количество удаленных значений:  24\n",
      "Доля удаленных значений:  0.002117709344392482\n"
     ]
    },
    {
     "data": {
      "image/png": "[encoded data removed]",
      "text/plain": [
       "<Figure size 432x288 with 1 Axes>"
      ]
     },
     "metadata": {
      "needs_background": "light"
     },
     "output_type": "display_data"
    }
   ],
   "source": [
    "# удалим суммы пожертвований более 50 000 руб\n",
    "print('Количество удаленных значений: ', (df1[df1['amount']>50000])['id'].count())\n",
    "print('Доля удаленных значений: ', (df1[df1['amount']>50000])['id'].count()/len(df1['id']))\n",
    "df1 = df1[df1['amount']<=50000]\n",
    "df1.boxplot('amount');"
   ]
  },
  {
   "cell_type": "markdown",
   "metadata": {},
   "source": [
    "### Отдельный датасет с информацией о каждом жертвователе, совершившим более одного пожертвования и родолжительность пожертвований (lifetime)"
   ]
  },
  {
   "cell_type": "code",
   "execution_count": 43,
   "metadata": {},
   "outputs": [
    {
     "data": {
      "text/html": [
       "<div>\n",
       "<style scoped>\n",
       "    .dataframe tbody tr th:only-of-type {\n",
       "        vertical-align: middle;\n",
       "    }\n",
       "\n",
       "    .dataframe tbody tr th {\n",
       "        vertical-align: top;\n",
       "    }\n",
       "\n",
       "    .dataframe thead th {\n",
       "        text-align: right;\n",
       "    }\n",
       "</style>\n",
       "<table border=\"1\" class=\"dataframe\">\n",
       "  <thead>\n",
       "    <tr style=\"text-align: right;\">\n",
       "      <th></th>\n",
       "      <th>id</th>\n",
       "      <th>first_date</th>\n",
       "      <th>last_date</th>\n",
       "      <th>donations_count</th>\n",
       "      <th>donations_sum</th>\n",
       "      <th>donations_mean</th>\n",
       "      <th>donations_median</th>\n",
       "      <th>lifetime</th>\n",
       "      <th>period</th>\n",
       "      <th>last_donations</th>\n",
       "    </tr>\n",
       "  </thead>\n",
       "  <tbody>\n",
       "    <tr>\n",
       "      <th>0</th>\n",
       "      <td>000711B2-2785-461B-BF5B-5CB7D2CABA20</td>\n",
       "      <td>2020-03-27 08:23:58</td>\n",
       "      <td>2022-06-27 08:24:05</td>\n",
       "      <td>21</td>\n",
       "      <td>10500.0</td>\n",
       "      <td>500.000000</td>\n",
       "      <td>500.0</td>\n",
       "      <td>822.0</td>\n",
       "      <td>39.142857</td>\n",
       "      <td>40.502973</td>\n",
       "    </tr>\n",
       "    <tr>\n",
       "      <th>1</th>\n",
       "      <td>0015A100-2D8C-4262-A9B3-BB1461C0C8B8</td>\n",
       "      <td>2021-07-27 12:15:05</td>\n",
       "      <td>2021-07-27 12:17:06</td>\n",
       "      <td>2</td>\n",
       "      <td>400.0</td>\n",
       "      <td>200.000000</td>\n",
       "      <td>200.0</td>\n",
       "      <td>0.0</td>\n",
       "      <td>0.000000</td>\n",
       "      <td>375.341156</td>\n",
       "    </tr>\n",
       "    <tr>\n",
       "      <th>2</th>\n",
       "      <td>00ADBA34-1EDC-4652-A559-1C0BE379A0DA</td>\n",
       "      <td>2019-09-10 10:34:52</td>\n",
       "      <td>2022-04-13 11:36:54</td>\n",
       "      <td>4</td>\n",
       "      <td>1600.0</td>\n",
       "      <td>400.000000</td>\n",
       "      <td>400.0</td>\n",
       "      <td>946.0</td>\n",
       "      <td>236.500000</td>\n",
       "      <td>115.369073</td>\n",
       "    </tr>\n",
       "    <tr>\n",
       "      <th>3</th>\n",
       "      <td>00B01874-B85A-4E15-8888-F38CB255FA76</td>\n",
       "      <td>2020-04-26 17:32:44</td>\n",
       "      <td>2020-11-26 17:32:57</td>\n",
       "      <td>7</td>\n",
       "      <td>700.0</td>\n",
       "      <td>100.000000</td>\n",
       "      <td>100.0</td>\n",
       "      <td>214.0</td>\n",
       "      <td>30.571429</td>\n",
       "      <td>618.121816</td>\n",
       "    </tr>\n",
       "    <tr>\n",
       "      <th>4</th>\n",
       "      <td>013339E3-2CA6-4BED-9EFE-37B65E0D4106</td>\n",
       "      <td>2019-06-06 20:28:04</td>\n",
       "      <td>2020-03-03 16:27:26</td>\n",
       "      <td>4</td>\n",
       "      <td>950.0</td>\n",
       "      <td>237.500000</td>\n",
       "      <td>250.0</td>\n",
       "      <td>270.0</td>\n",
       "      <td>67.500000</td>\n",
       "      <td>886.167314</td>\n",
       "    </tr>\n",
       "    <tr>\n",
       "      <th>...</th>\n",
       "      <td>...</td>\n",
       "      <td>...</td>\n",
       "      <td>...</td>\n",
       "      <td>...</td>\n",
       "      <td>...</td>\n",
       "      <td>...</td>\n",
       "      <td>...</td>\n",
       "      <td>...</td>\n",
       "      <td>...</td>\n",
       "      <td>...</td>\n",
       "    </tr>\n",
       "    <tr>\n",
       "      <th>1030</th>\n",
       "      <td>FEE4BAD2-DE40-4FE6-8515-6C579A28DDA1</td>\n",
       "      <td>2019-07-17 13:02:05</td>\n",
       "      <td>2021-12-17 13:02:41</td>\n",
       "      <td>30</td>\n",
       "      <td>15000.0</td>\n",
       "      <td>500.000000</td>\n",
       "      <td>500.0</td>\n",
       "      <td>884.0</td>\n",
       "      <td>29.466667</td>\n",
       "      <td>232.309501</td>\n",
       "    </tr>\n",
       "    <tr>\n",
       "      <th>1031</th>\n",
       "      <td>FEE7B479-DFEC-489D-8490-D6FC04BD7860</td>\n",
       "      <td>2020-04-02 09:49:55</td>\n",
       "      <td>2022-07-02 09:50:12</td>\n",
       "      <td>38</td>\n",
       "      <td>4300.0</td>\n",
       "      <td>113.157895</td>\n",
       "      <td>100.0</td>\n",
       "      <td>821.0</td>\n",
       "      <td>21.605263</td>\n",
       "      <td>35.443170</td>\n",
       "    </tr>\n",
       "    <tr>\n",
       "      <th>1032</th>\n",
       "      <td>FF331E7F-F975-46E4-9754-A13B661EF5C5</td>\n",
       "      <td>2019-09-13 15:21:52</td>\n",
       "      <td>2021-07-15 00:34:31</td>\n",
       "      <td>2</td>\n",
       "      <td>2000.0</td>\n",
       "      <td>1000.000000</td>\n",
       "      <td>1000.0</td>\n",
       "      <td>670.0</td>\n",
       "      <td>335.000000</td>\n",
       "      <td>387.829061</td>\n",
       "    </tr>\n",
       "    <tr>\n",
       "      <th>1033</th>\n",
       "      <td>FFA30123-A516-44A7-B030-F83ED369B645</td>\n",
       "      <td>2020-03-27 19:55:41</td>\n",
       "      <td>2022-07-04 13:32:33</td>\n",
       "      <td>27</td>\n",
       "      <td>4100.0</td>\n",
       "      <td>151.851852</td>\n",
       "      <td>200.0</td>\n",
       "      <td>828.0</td>\n",
       "      <td>30.666667</td>\n",
       "      <td>33.288760</td>\n",
       "    </tr>\n",
       "    <tr>\n",
       "      <th>1034</th>\n",
       "      <td>FFCCBA23-89CA-4A22-BD8A-7CAD2D9EB7F7</td>\n",
       "      <td>2021-08-29 00:00:00</td>\n",
       "      <td>2021-09-19 00:00:00</td>\n",
       "      <td>3</td>\n",
       "      <td>60.0</td>\n",
       "      <td>20.000000</td>\n",
       "      <td>20.0</td>\n",
       "      <td>21.0</td>\n",
       "      <td>7.000000</td>\n",
       "      <td>321.853031</td>\n",
       "    </tr>\n",
       "  </tbody>\n",
       "</table>\n",
       "<p>1035 rows × 10 columns</p>\n",
       "</div>"
      ],
      "text/plain": [
       "                                        id          first_date  \\\n",
       "0     000711B2-2785-461B-BF5B-5CB7D2CABA20 2020-03-27 08:23:58   \n",
       "1     0015A100-2D8C-4262-A9B3-BB1461C0C8B8 2021-07-27 12:15:05   \n",
       "2     00ADBA34-1EDC-4652-A559-1C0BE379A0DA 2019-09-10 10:34:52   \n",
       "3     00B01874-B85A-4E15-8888-F38CB255FA76 2020-04-26 17:32:44   \n",
       "4     013339E3-2CA6-4BED-9EFE-37B65E0D4106 2019-06-06 20:28:04   \n",
       "...                                    ...                 ...   \n",
       "1030  FEE4BAD2-DE40-4FE6-8515-6C579A28DDA1 2019-07-17 13:02:05   \n",
       "1031  FEE7B479-DFEC-489D-8490-D6FC04BD7860 2020-04-02 09:49:55   \n",
       "1032  FF331E7F-F975-46E4-9754-A13B661EF5C5 2019-09-13 15:21:52   \n",
       "1033  FFA30123-A516-44A7-B030-F83ED369B645 2020-03-27 19:55:41   \n",
       "1034  FFCCBA23-89CA-4A22-BD8A-7CAD2D9EB7F7 2021-08-29 00:00:00   \n",
       "\n",
       "               last_date  donations_count  donations_sum  donations_mean  \\\n",
       "0    2022-06-27 08:24:05               21        10500.0      500.000000   \n",
       "1    2021-07-27 12:17:06                2          400.0      200.000000   \n",
       "2    2022-04-13 11:36:54                4         1600.0      400.000000   \n",
       "3    2020-11-26 17:32:57                7          700.0      100.000000   \n",
       "4    2020-03-03 16:27:26                4          950.0      237.500000   \n",
       "...                  ...              ...            ...             ...   \n",
       "1030 2021-12-17 13:02:41               30        15000.0      500.000000   \n",
       "1031 2022-07-02 09:50:12               38         4300.0      113.157895   \n",
       "1032 2021-07-15 00:34:31                2         2000.0     1000.000000   \n",
       "1033 2022-07-04 13:32:33               27         4100.0      151.851852   \n",
       "1034 2021-09-19 00:00:00                3           60.0       20.000000   \n",
       "\n",
       "      donations_median  lifetime      period  last_donations  \n",
       "0                500.0     822.0   39.142857       40.502973  \n",
       "1                200.0       0.0    0.000000      375.341156  \n",
       "2                400.0     946.0  236.500000      115.369073  \n",
       "3                100.0     214.0   30.571429      618.121816  \n",
       "4                250.0     270.0   67.500000      886.167314  \n",
       "...                ...       ...         ...             ...  \n",
       "1030             500.0     884.0   29.466667      232.309501  \n",
       "1031             100.0     821.0   21.605263       35.443170  \n",
       "1032            1000.0     670.0  335.000000      387.829061  \n",
       "1033             200.0     828.0   30.666667       33.288760  \n",
       "1034              20.0      21.0    7.000000      321.853031  \n",
       "\n",
       "[1035 rows x 10 columns]"
      ]
     },
     "execution_count": 43,
     "metadata": {},
     "output_type": "execute_result"
    }
   ],
   "source": [
    "# сформируем отдельный датасет с информацией о каждом жертвователе\n",
    "\n",
    "df_id = df1.groupby('id').agg(\n",
    "    {'date': ['min', 'max'], 'amount':['count', 'sum', 'mean', 'median']}).set_axis(\n",
    "    ['first_date', 'last_date','donations_count','donations_sum', 'donations_mean', 'donations_median'], \n",
    "    axis=1, inplace=False).reset_index()\n",
    "\n",
    "# вычислим lifetime каждого жертвователя в днях\n",
    "df_id['lifetime'] = (df_id['last_date']-df_id['first_date'])/np.timedelta64(1,'D')\n",
    "df_id['lifetime'] = df_id['lifetime'].astype(float).apply(np.floor)\n",
    "\n",
    "# вычислим частоту пожертвований\n",
    "#df_id['frequence'] = df_id['donations_count']/df_id['lifetime']\n",
    "# вычислим, через какое время (в днях) в среднем совершается пожертвование (среднее значение периода пожертвований)\n",
    "df_id['period'] = df_id['lifetime']/df_id['donations_count']\n",
    "\n",
    "# добавим количество дней, прошедшее с последнего пожертвования\n",
    "df_id['last_donations'] = (pd.Timestamp('today') - df_id['last_date'])/np.timedelta64(1,'D')\n",
    "\n",
    "df_id"
   ]
  },
  {
   "cell_type": "code",
   "execution_count": 41,
   "metadata": {},
   "outputs": [
    {
     "data": {
      "text/html": [
       "<div>\n",
       "<style scoped>\n",
       "    .dataframe tbody tr th:only-of-type {\n",
       "        vertical-align: middle;\n",
       "    }\n",
       "\n",
       "    .dataframe tbody tr th {\n",
       "        vertical-align: top;\n",
       "    }\n",
       "\n",
       "    .dataframe thead th {\n",
       "        text-align: right;\n",
       "    }\n",
       "</style>\n",
       "<table border=\"1\" class=\"dataframe\">\n",
       "  <thead>\n",
       "    <tr style=\"text-align: right;\">\n",
       "      <th></th>\n",
       "      <th>donations_count</th>\n",
       "      <th>donations_sum</th>\n",
       "      <th>donations_mean</th>\n",
       "      <th>donations_median</th>\n",
       "      <th>lifetime</th>\n",
       "      <th>period</th>\n",
       "      <th>last_donations</th>\n",
       "    </tr>\n",
       "  </thead>\n",
       "  <tbody>\n",
       "    <tr>\n",
       "      <th>count</th>\n",
       "      <td>1035.000000</td>\n",
       "      <td>1035.000000</td>\n",
       "      <td>1035.000000</td>\n",
       "      <td>1035.000000</td>\n",
       "      <td>1035.000000</td>\n",
       "      <td>1035.000000</td>\n",
       "      <td>1035.000000</td>\n",
       "    </tr>\n",
       "    <tr>\n",
       "      <th>mean</th>\n",
       "      <td>10.926570</td>\n",
       "      <td>9984.228522</td>\n",
       "      <td>1236.283529</td>\n",
       "      <td>1141.290585</td>\n",
       "      <td>460.533333</td>\n",
       "      <td>62.480057</td>\n",
       "      <td>633.568001</td>\n",
       "    </tr>\n",
       "    <tr>\n",
       "      <th>std</th>\n",
       "      <td>12.124213</td>\n",
       "      <td>24405.751659</td>\n",
       "      <td>3487.667603</td>\n",
       "      <td>3315.389953</td>\n",
       "      <td>474.925737</td>\n",
       "      <td>99.711523</td>\n",
       "      <td>612.806499</td>\n",
       "    </tr>\n",
       "    <tr>\n",
       "      <th>min</th>\n",
       "      <td>1.000000</td>\n",
       "      <td>10.000000</td>\n",
       "      <td>10.000000</td>\n",
       "      <td>10.000000</td>\n",
       "      <td>0.000000</td>\n",
       "      <td>0.000000</td>\n",
       "      <td>9.045911</td>\n",
       "    </tr>\n",
       "    <tr>\n",
       "      <th>25%</th>\n",
       "      <td>2.000000</td>\n",
       "      <td>900.000000</td>\n",
       "      <td>200.000000</td>\n",
       "      <td>200.000000</td>\n",
       "      <td>86.000000</td>\n",
       "      <td>23.583333</td>\n",
       "      <td>98.960002</td>\n",
       "    </tr>\n",
       "    <tr>\n",
       "      <th>50%</th>\n",
       "      <td>5.000000</td>\n",
       "      <td>2900.000000</td>\n",
       "      <td>442.857143</td>\n",
       "      <td>450.000000</td>\n",
       "      <td>334.000000</td>\n",
       "      <td>30.285714</td>\n",
       "      <td>496.910078</td>\n",
       "    </tr>\n",
       "    <tr>\n",
       "      <th>75%</th>\n",
       "      <td>16.000000</td>\n",
       "      <td>9000.000000</td>\n",
       "      <td>985.294118</td>\n",
       "      <td>1000.000000</td>\n",
       "      <td>699.000000</td>\n",
       "      <td>58.916667</td>\n",
       "      <td>955.983041</td>\n",
       "    </tr>\n",
       "    <tr>\n",
       "      <th>max</th>\n",
       "      <td>83.000000</td>\n",
       "      <td>398000.000000</td>\n",
       "      <td>50000.000000</td>\n",
       "      <td>50000.000000</td>\n",
       "      <td>2486.000000</td>\n",
       "      <td>823.500000</td>\n",
       "      <td>2575.002149</td>\n",
       "    </tr>\n",
       "  </tbody>\n",
       "</table>\n",
       "</div>"
      ],
      "text/plain": [
       "       donations_count  donations_sum  donations_mean  donations_median  \\\n",
       "count      1035.000000    1035.000000     1035.000000       1035.000000   \n",
       "mean         10.926570    9984.228522     1236.283529       1141.290585   \n",
       "std          12.124213   24405.751659     3487.667603       3315.389953   \n",
       "min           1.000000      10.000000       10.000000         10.000000   \n",
       "25%           2.000000     900.000000      200.000000        200.000000   \n",
       "50%           5.000000    2900.000000      442.857143        450.000000   \n",
       "75%          16.000000    9000.000000      985.294118       1000.000000   \n",
       "max          83.000000  398000.000000    50000.000000      50000.000000   \n",
       "\n",
       "          lifetime       period  last_donations  \n",
       "count  1035.000000  1035.000000     1035.000000  \n",
       "mean    460.533333    62.480057      633.568001  \n",
       "std     474.925737    99.711523      612.806499  \n",
       "min       0.000000     0.000000        9.045911  \n",
       "25%      86.000000    23.583333       98.960002  \n",
       "50%     334.000000    30.285714      496.910078  \n",
       "75%     699.000000    58.916667      955.983041  \n",
       "max    2486.000000   823.500000     2575.002149  "
      ]
     },
     "execution_count": 41,
     "metadata": {},
     "output_type": "execute_result"
    }
   ],
   "source": [
    "df_id.describe()"
   ]
  },
  {
   "cell_type": "code",
   "execution_count": 42,
   "metadata": {},
   "outputs": [
    {
     "name": "stdout",
     "output_type": "stream",
     "text": [
      "<class 'pandas.core.frame.DataFrame'>\n",
      "RangeIndex: 1035 entries, 0 to 1034\n",
      "Data columns (total 10 columns):\n",
      " #   Column            Non-Null Count  Dtype         \n",
      "---  ------            --------------  -----         \n",
      " 0   id                1035 non-null   object        \n",
      " 1   first_date        1035 non-null   datetime64[ns]\n",
      " 2   last_date         1035 non-null   datetime64[ns]\n",
      " 3   donations_count   1035 non-null   int64         \n",
      " 4   donations_sum     1035 non-null   float64       \n",
      " 5   donations_mean    1035 non-null   float64       \n",
      " 6   donations_median  1035 non-null   float64       \n",
      " 7   lifetime          1035 non-null   float64       \n",
      " 8   period            1035 non-null   float64       \n",
      " 9   last_donations    1035 non-null   float64       \n",
      "dtypes: datetime64[ns](2), float64(6), int64(1), object(1)\n",
      "memory usage: 81.0+ KB\n"
     ]
    }
   ],
   "source": [
    "df_id.info()"
   ]
  }
 ],
 "metadata": {
  "colab": {
   "name": "Untitled4.ipynb",
   "provenance": []
  },
  "kernelspec": {
   "display_name": "Python 3 (ipykernel)",
   "language": "python",
   "name": "python3"
  },
  "language_info": {
   "codemirror_mode": {
    "name": "ipython",
    "version": 3
   },
   "file_extension": ".py",
   "mimetype": "text/x-python",
   "name": "python",
   "nbconvert_exporter": "python",
   "pygments_lexer": "ipython3",
   "version": "3.9.7"
  },
  "vscode": {
   "interpreter": {
    "hash": "aee8b7b246df8f9039afb4144a1f6fd8d2ca17a180786b69acc140d282b71a49"
   }
  }
 },
 "nbformat": 4,
 "nbformat_minor": 1
}
